{
 "cells": [
  {
   "cell_type": "markdown",
   "id": "be368f88",
   "metadata": {},
   "source": [
    "# Vlaamse parlement API"
   ]
  },
  {
   "cell_type": "markdown",
   "id": "a1642309",
   "metadata": {},
   "source": [
    "Het Vlaamse Parlement stelt de data uit de parlementaire databank ook ter beschikking via een API: https://www.vlaamsparlement.be/nl/parlementair-werk/dossiers/dossiers/open-data en http://ws.vlpar.be/e/opendata/api/."
   ]
  },
  {
   "cell_type": "markdown",
   "id": "bb7c517c",
   "metadata": {},
   "source": [
    "# Setting up"
   ]
  },
  {
   "cell_type": "code",
   "execution_count": 1,
   "id": "1186f36f",
   "metadata": {},
   "outputs": [],
   "source": [
    "# show all outputs of cell, not merely of last line (i.e. default of Jupyter Notebook)\n",
    "from IPython.core.interactiveshell import InteractiveShell\n",
    "InteractiveShell.ast_node_interactivity = \"all\""
   ]
  },
  {
   "cell_type": "code",
   "execution_count": 2,
   "id": "3596d87a",
   "metadata": {},
   "outputs": [],
   "source": [
    "import numpy as np\n",
    "import pandas as pd\n",
    "\n",
    "import csv\n",
    "import pickle\n",
    "\n",
    "from collections import defaultdict\n",
    "\n",
    "import requests\n",
    "\n",
    "from datetime import datetime, timedelta\n",
    "import locale # to allow date parsing for dates in Dutch\n",
    "\n",
    "from collections import Counter\n",
    "\n",
    "import matplotlib.pyplot as plt\n",
    "\n",
    "import copy\n",
    "\n",
    "import os"
   ]
  },
  {
   "cell_type": "code",
   "execution_count": 3,
   "id": "ff8ee665",
   "metadata": {},
   "outputs": [],
   "source": [
    "# # Set the locale to Dutch\n",
    "# locale.setlocale(locale.LC_ALL, 'nl_NL')"
   ]
  },
  {
   "cell_type": "code",
   "execution_count": 4,
   "id": "e4394daf",
   "metadata": {},
   "outputs": [],
   "source": [
    "# # Obtain string of current date\n",
    "# today_str = datetime.now().strftime(\"%Y-%m-%d\")\n",
    "# today_str "
   ]
  },
  {
   "cell_type": "code",
   "execution_count": 5,
   "id": "e647141f",
   "metadata": {},
   "outputs": [],
   "source": [
    "# Set base_url of api\n",
    "base_url = \"https://ws.vlpar.be/e/opendata\""
   ]
  },
  {
   "cell_type": "code",
   "execution_count": 6,
   "id": "de1d0aca-26bb-42b8-bff5-73ed70181e42",
   "metadata": {},
   "outputs": [],
   "source": [
    "# The webpage of the API shows some interesting fields:\n",
    "# * `/stats/{commId}/{zj}`: statistieken voor commissie per zittingsjaar\n",
    "# * `/vv/huidige`: Lijst van huidige Vlaamse volksvertegenwoordigers\n",
    "# * `/vv/gewezen`: Lijst van gewezen Vlaamse volksvertegenwoordigers\n",
    "# * `/vv/{persoonId}` Detailgegevens volksvertegenwoordiger\n",
    "# * `/comm/huidige` Commissies van de huidige legislatuur\n",
    "# * `/comm/{commId}` Samenstelling commissie\n",
    "# * `/verg/vorige` Lijst van vorige vergaderingen voor periode\n",
    "# * `/verg/zoek/datums` Lijst van vorige vergaderingen (beperkte data) binnen een zekere periode"
   ]
  },
  {
   "cell_type": "markdown",
   "id": "672c217a",
   "metadata": {},
   "source": [
    "# Read in data"
   ]
  },
  {
   "cell_type": "code",
   "execution_count": 7,
   "id": "fb75f4f9",
   "metadata": {},
   "outputs": [],
   "source": [
    "def get_endpoint(endpoint: str):\n",
    "    \"\"\"\n",
    "    Return data available at inserted endpoint\n",
    "    \"\"\"\n",
    "    # Make the GET request\n",
    "    response = requests.get(f\"{base_url}{endpoint}\")\n",
    "\n",
    "    # Check if the request was successful (status code 200)\n",
    "    if response.status_code == 200:\n",
    "        data = response.json()  # Parse JSON response\n",
    "    else:\n",
    "        print(f\"Failed to fetch data. Status code: {response.status_code}\")\n",
    "\n",
    "    return data"
   ]
  },
  {
   "cell_type": "markdown",
   "id": "9606bde1",
   "metadata": {},
   "source": [
    "## Members and parties"
   ]
  },
  {
   "cell_type": "markdown",
   "id": "e3e6817a",
   "metadata": {},
   "source": [
    "First we obtain the current members of parliament."
   ]
  },
  {
   "cell_type": "code",
   "execution_count": 8,
   "id": "1854974f",
   "metadata": {},
   "outputs": [],
   "source": [
    "volksvertegenwoordigers_json = get_endpoint(\"/vv/huidige\")\n",
    "\n",
    "# # Inspect data\n",
    "# volksvertegenwoordigers_json\n",
    "\n",
    "# Parse json into dataframe. Visual inspection showed data is stored in 'items' key\n",
    "volksvertegenwoordigers_df = pd.DataFrame.from_dict(\n",
    "    pd.json_normalize(volksvertegenwoordigers_json['items']), \n",
    "    orient='columns')"
   ]
  },
  {
   "cell_type": "code",
   "execution_count": 9,
   "id": "4f1ea609",
   "metadata": {},
   "outputs": [],
   "source": [
    "# # Inspect results\n",
    "# volksvertegenwoordigers_df.head()\n",
    "# volksvertegenwoordigers_df.columns"
   ]
  },
  {
   "cell_type": "markdown",
   "id": "bad08e68",
   "metadata": {},
   "source": [
    "This dataframe contains the relevant party names and their corresponding colour. We can use this later when visualising, so we obtain this and store it."
   ]
  },
  {
   "cell_type": "code",
   "execution_count": 10,
   "id": "cef7161c",
   "metadata": {},
   "outputs": [],
   "source": [
    "partij_kleur_dict = {} # Create empty dict to fill\n",
    "\n",
    "# Iterate over each member and if its party and colour not yet in dict, include\n",
    "for kleur, partij in zip(volksvertegenwoordigers_df[\"volksvertegenwoordiger.fractie.kleur\"],\n",
    "    volksvertegenwoordigers_df[\"volksvertegenwoordiger.fractie.naam\"]):\n",
    "    if partij not in partij_kleur_dict.keys():\n",
    "        partij_kleur_dict[partij] = kleur"
   ]
  },
  {
   "cell_type": "code",
   "execution_count": 11,
   "id": "5415aca3-334b-4647-9b46-f6fc7b57f83c",
   "metadata": {},
   "outputs": [],
   "source": [
    "# # Inspect results\n",
    "# partij_kleur_dict"
   ]
  },
  {
   "cell_type": "code",
   "execution_count": 12,
   "id": "92158a92",
   "metadata": {},
   "outputs": [],
   "source": [
    "#Export results to pickle file\n",
    "with open(f'../data/partij_kleur_dict.pkl', 'wb') as file:\n",
    "    pickle.dump(partij_kleur_dict, file)"
   ]
  },
  {
   "cell_type": "markdown",
   "id": "a50ea59b",
   "metadata": {},
   "source": [
    "Then we obtain a dictionary that groups all members (and their ID) of each party, and a dictionary that maps each members and its ID to its party."
   ]
  },
  {
   "cell_type": "code",
   "execution_count": 13,
   "id": "780fe687",
   "metadata": {},
   "outputs": [],
   "source": [
    "# Create empty dicts\n",
    "fracties_dict = {}\n",
    "parlementsleden_all_dict = {}\n",
    "\n",
    "#Iterate over all rows and store fractie, id and voornaam and naam in dicts\n",
    "for index, row in volksvertegenwoordigers_df.iterrows():\n",
    "    fractie = row[\"volksvertegenwoordiger.fractie.naam\"]\n",
    "    parlementslid_id = row[\"volksvertegenwoordiger.id\"]\n",
    "    voornaam_en_naam = row[\"volksvertegenwoordiger.voornaam\"] + \" \" + row[\"volksvertegenwoordiger.naam\"]\n",
    "    \n",
    "    if fractie not in fracties_dict:\n",
    "        fracties_dict[fractie] = []\n",
    "    fracties_dict[fractie].append([voornaam_en_naam, parlementslid_id])\n",
    "    \n",
    "    parlementsleden_all_dict[parlementslid_id] = [voornaam_en_naam, fractie]"
   ]
  },
  {
   "cell_type": "code",
   "execution_count": 14,
   "id": "ca5013f0",
   "metadata": {},
   "outputs": [],
   "source": [
    "# # Inspect results\n",
    "# fracties_dict\n",
    "# parlementsleden_all_dict"
   ]
  },
  {
   "cell_type": "code",
   "execution_count": 15,
   "id": "fc6c9487",
   "metadata": {
    "scrolled": true
   },
   "outputs": [
    {
     "data": {
      "text/plain": [
       "380"
      ]
     },
     "execution_count": 15,
     "metadata": {},
     "output_type": "execute_result"
    },
    {
     "data": {
      "text/plain": [
       "70"
      ]
     },
     "execution_count": 15,
     "metadata": {},
     "output_type": "execute_result"
    },
    {
     "data": {
      "text/plain": [
       "354"
      ]
     },
     "execution_count": 15,
     "metadata": {},
     "output_type": "execute_result"
    },
    {
     "data": {
      "text/plain": [
       "640"
      ]
     },
     "execution_count": 15,
     "metadata": {},
     "output_type": "execute_result"
    },
    {
     "data": {
      "text/plain": [
       "515"
      ]
     },
     "execution_count": 15,
     "metadata": {},
     "output_type": "execute_result"
    },
    {
     "data": {
      "text/plain": [
       "937"
      ]
     },
     "execution_count": 15,
     "metadata": {},
     "output_type": "execute_result"
    },
    {
     "data": {
      "text/plain": [
       "402"
      ]
     },
     "execution_count": 15,
     "metadata": {},
     "output_type": "execute_result"
    },
    {
     "data": {
      "text/plain": [
       "115"
      ]
     },
     "execution_count": 15,
     "metadata": {},
     "output_type": "execute_result"
    },
    {
     "data": {
      "text/plain": [
       "32"
      ]
     },
     "execution_count": 15,
     "metadata": {},
     "output_type": "execute_result"
    },
    {
     "data": {
      "text/plain": [
       "35"
      ]
     },
     "execution_count": 15,
     "metadata": {},
     "output_type": "execute_result"
    },
    {
     "data": {
      "text/plain": [
       "39"
      ]
     },
     "execution_count": 15,
     "metadata": {},
     "output_type": "execute_result"
    },
    {
     "data": {
      "text/plain": [
       "35"
      ]
     },
     "execution_count": 15,
     "metadata": {},
     "output_type": "execute_result"
    },
    {
     "data": {
      "text/plain": [
       "35"
      ]
     },
     "execution_count": 15,
     "metadata": {},
     "output_type": "execute_result"
    },
    {
     "data": {
      "text/plain": [
       "48"
      ]
     },
     "execution_count": 15,
     "metadata": {},
     "output_type": "execute_result"
    },
    {
     "data": {
      "text/plain": [
       "31"
      ]
     },
     "execution_count": 15,
     "metadata": {},
     "output_type": "execute_result"
    },
    {
     "data": {
      "text/plain": [
       "49"
      ]
     },
     "execution_count": 15,
     "metadata": {},
     "output_type": "execute_result"
    },
    {
     "data": {
      "text/plain": [
       "38"
      ]
     },
     "execution_count": 15,
     "metadata": {},
     "output_type": "execute_result"
    },
    {
     "data": {
      "text/plain": [
       "35"
      ]
     },
     "execution_count": 15,
     "metadata": {},
     "output_type": "execute_result"
    },
    {
     "data": {
      "text/plain": [
       "47"
      ]
     },
     "execution_count": 15,
     "metadata": {},
     "output_type": "execute_result"
    },
    {
     "data": {
      "text/plain": [
       "41"
      ]
     },
     "execution_count": 15,
     "metadata": {},
     "output_type": "execute_result"
    },
    {
     "data": {
      "text/plain": [
       "35"
      ]
     },
     "execution_count": 15,
     "metadata": {},
     "output_type": "execute_result"
    },
    {
     "data": {
      "text/plain": [
       "40"
      ]
     },
     "execution_count": 15,
     "metadata": {},
     "output_type": "execute_result"
    },
    {
     "data": {
      "text/plain": [
       "32"
      ]
     },
     "execution_count": 15,
     "metadata": {},
     "output_type": "execute_result"
    },
    {
     "data": {
      "text/plain": [
       "44"
      ]
     },
     "execution_count": 15,
     "metadata": {},
     "output_type": "execute_result"
    },
    {
     "data": {
      "text/plain": [
       "35"
      ]
     },
     "execution_count": 15,
     "metadata": {},
     "output_type": "execute_result"
    },
    {
     "data": {
      "text/plain": [
       "33"
      ]
     },
     "execution_count": 15,
     "metadata": {},
     "output_type": "execute_result"
    },
    {
     "data": {
      "text/plain": [
       "33"
      ]
     },
     "execution_count": 15,
     "metadata": {},
     "output_type": "execute_result"
    },
    {
     "data": {
      "text/plain": [
       "43"
      ]
     },
     "execution_count": 15,
     "metadata": {},
     "output_type": "execute_result"
    },
    {
     "data": {
      "text/plain": [
       "36"
      ]
     },
     "execution_count": 15,
     "metadata": {},
     "output_type": "execute_result"
    },
    {
     "data": {
      "text/plain": [
       "46"
      ]
     },
     "execution_count": 15,
     "metadata": {},
     "output_type": "execute_result"
    },
    {
     "data": {
      "text/plain": [
       "36"
      ]
     },
     "execution_count": 15,
     "metadata": {},
     "output_type": "execute_result"
    },
    {
     "data": {
      "text/plain": [
       "38"
      ]
     },
     "execution_count": 15,
     "metadata": {},
     "output_type": "execute_result"
    },
    {
     "data": {
      "text/plain": [
       "47"
      ]
     },
     "execution_count": 15,
     "metadata": {},
     "output_type": "execute_result"
    },
    {
     "data": {
      "text/plain": [
       "37"
      ]
     },
     "execution_count": 15,
     "metadata": {},
     "output_type": "execute_result"
    },
    {
     "data": {
      "text/plain": [
       "33"
      ]
     },
     "execution_count": 15,
     "metadata": {},
     "output_type": "execute_result"
    },
    {
     "data": {
      "text/plain": [
       "37"
      ]
     },
     "execution_count": 15,
     "metadata": {},
     "output_type": "execute_result"
    },
    {
     "data": {
      "text/plain": [
       "60"
      ]
     },
     "execution_count": 15,
     "metadata": {},
     "output_type": "execute_result"
    },
    {
     "data": {
      "text/plain": [
       "39"
      ]
     },
     "execution_count": 15,
     "metadata": {},
     "output_type": "execute_result"
    },
    {
     "data": {
      "text/plain": [
       "37"
      ]
     },
     "execution_count": 15,
     "metadata": {},
     "output_type": "execute_result"
    },
    {
     "data": {
      "text/plain": [
       "39"
      ]
     },
     "execution_count": 15,
     "metadata": {},
     "output_type": "execute_result"
    },
    {
     "data": {
      "text/plain": [
       "34"
      ]
     },
     "execution_count": 15,
     "metadata": {},
     "output_type": "execute_result"
    },
    {
     "data": {
      "text/plain": [
       "44"
      ]
     },
     "execution_count": 15,
     "metadata": {},
     "output_type": "execute_result"
    },
    {
     "data": {
      "text/plain": [
       "33"
      ]
     },
     "execution_count": 15,
     "metadata": {},
     "output_type": "execute_result"
    },
    {
     "data": {
      "text/plain": [
       "34"
      ]
     },
     "execution_count": 15,
     "metadata": {},
     "output_type": "execute_result"
    },
    {
     "data": {
      "text/plain": [
       "47"
      ]
     },
     "execution_count": 15,
     "metadata": {},
     "output_type": "execute_result"
    },
    {
     "data": {
      "text/plain": [
       "43"
      ]
     },
     "execution_count": 15,
     "metadata": {},
     "output_type": "execute_result"
    },
    {
     "data": {
      "text/plain": [
       "31"
      ]
     },
     "execution_count": 15,
     "metadata": {},
     "output_type": "execute_result"
    },
    {
     "data": {
      "text/plain": [
       "50"
      ]
     },
     "execution_count": 15,
     "metadata": {},
     "output_type": "execute_result"
    },
    {
     "data": {
      "text/plain": [
       "37"
      ]
     },
     "execution_count": 15,
     "metadata": {},
     "output_type": "execute_result"
    },
    {
     "data": {
      "text/plain": [
       "37"
      ]
     },
     "execution_count": 15,
     "metadata": {},
     "output_type": "execute_result"
    },
    {
     "data": {
      "text/plain": [
       "40"
      ]
     },
     "execution_count": 15,
     "metadata": {},
     "output_type": "execute_result"
    },
    {
     "data": {
      "text/plain": [
       "38"
      ]
     },
     "execution_count": 15,
     "metadata": {},
     "output_type": "execute_result"
    },
    {
     "data": {
      "text/plain": [
       "39"
      ]
     },
     "execution_count": 15,
     "metadata": {},
     "output_type": "execute_result"
    },
    {
     "data": {
      "text/plain": [
       "37"
      ]
     },
     "execution_count": 15,
     "metadata": {},
     "output_type": "execute_result"
    },
    {
     "data": {
      "text/plain": [
       "36"
      ]
     },
     "execution_count": 15,
     "metadata": {},
     "output_type": "execute_result"
    },
    {
     "data": {
      "text/plain": [
       "38"
      ]
     },
     "execution_count": 15,
     "metadata": {},
     "output_type": "execute_result"
    },
    {
     "data": {
      "text/plain": [
       "30"
      ]
     },
     "execution_count": 15,
     "metadata": {},
     "output_type": "execute_result"
    },
    {
     "data": {
      "text/plain": [
       "44"
      ]
     },
     "execution_count": 15,
     "metadata": {},
     "output_type": "execute_result"
    },
    {
     "data": {
      "text/plain": [
       "33"
      ]
     },
     "execution_count": 15,
     "metadata": {},
     "output_type": "execute_result"
    },
    {
     "data": {
      "text/plain": [
       "38"
      ]
     },
     "execution_count": 15,
     "metadata": {},
     "output_type": "execute_result"
    },
    {
     "data": {
      "text/plain": [
       "37"
      ]
     },
     "execution_count": 15,
     "metadata": {},
     "output_type": "execute_result"
    },
    {
     "data": {
      "text/plain": [
       "43"
      ]
     },
     "execution_count": 15,
     "metadata": {},
     "output_type": "execute_result"
    },
    {
     "data": {
      "text/plain": [
       "40"
      ]
     },
     "execution_count": 15,
     "metadata": {},
     "output_type": "execute_result"
    },
    {
     "data": {
      "text/plain": [
       "34"
      ]
     },
     "execution_count": 15,
     "metadata": {},
     "output_type": "execute_result"
    },
    {
     "data": {
      "text/plain": [
       "43"
      ]
     },
     "execution_count": 15,
     "metadata": {},
     "output_type": "execute_result"
    },
    {
     "data": {
      "text/plain": [
       "36"
      ]
     },
     "execution_count": 15,
     "metadata": {},
     "output_type": "execute_result"
    },
    {
     "data": {
      "text/plain": [
       "34"
      ]
     },
     "execution_count": 15,
     "metadata": {},
     "output_type": "execute_result"
    },
    {
     "data": {
      "text/plain": [
       "40"
      ]
     },
     "execution_count": 15,
     "metadata": {},
     "output_type": "execute_result"
    },
    {
     "data": {
      "text/plain": [
       "35"
      ]
     },
     "execution_count": 15,
     "metadata": {},
     "output_type": "execute_result"
    },
    {
     "data": {
      "text/plain": [
       "31"
      ]
     },
     "execution_count": 15,
     "metadata": {},
     "output_type": "execute_result"
    },
    {
     "data": {
      "text/plain": [
       "37"
      ]
     },
     "execution_count": 15,
     "metadata": {},
     "output_type": "execute_result"
    },
    {
     "data": {
      "text/plain": [
       "39"
      ]
     },
     "execution_count": 15,
     "metadata": {},
     "output_type": "execute_result"
    },
    {
     "data": {
      "text/plain": [
       "36"
      ]
     },
     "execution_count": 15,
     "metadata": {},
     "output_type": "execute_result"
    },
    {
     "data": {
      "text/plain": [
       "35"
      ]
     },
     "execution_count": 15,
     "metadata": {},
     "output_type": "execute_result"
    },
    {
     "data": {
      "text/plain": [
       "41"
      ]
     },
     "execution_count": 15,
     "metadata": {},
     "output_type": "execute_result"
    },
    {
     "data": {
      "text/plain": [
       "35"
      ]
     },
     "execution_count": 15,
     "metadata": {},
     "output_type": "execute_result"
    },
    {
     "data": {
      "text/plain": [
       "35"
      ]
     },
     "execution_count": 15,
     "metadata": {},
     "output_type": "execute_result"
    },
    {
     "data": {
      "text/plain": [
       "31"
      ]
     },
     "execution_count": 15,
     "metadata": {},
     "output_type": "execute_result"
    },
    {
     "data": {
      "text/plain": [
       "43"
      ]
     },
     "execution_count": 15,
     "metadata": {},
     "output_type": "execute_result"
    },
    {
     "data": {
      "text/plain": [
       "34"
      ]
     },
     "execution_count": 15,
     "metadata": {},
     "output_type": "execute_result"
    },
    {
     "data": {
      "text/plain": [
       "36"
      ]
     },
     "execution_count": 15,
     "metadata": {},
     "output_type": "execute_result"
    },
    {
     "data": {
      "text/plain": [
       "38"
      ]
     },
     "execution_count": 15,
     "metadata": {},
     "output_type": "execute_result"
    },
    {
     "data": {
      "text/plain": [
       "37"
      ]
     },
     "execution_count": 15,
     "metadata": {},
     "output_type": "execute_result"
    },
    {
     "data": {
      "text/plain": [
       "39"
      ]
     },
     "execution_count": 15,
     "metadata": {},
     "output_type": "execute_result"
    },
    {
     "data": {
      "text/plain": [
       "48"
      ]
     },
     "execution_count": 15,
     "metadata": {},
     "output_type": "execute_result"
    },
    {
     "data": {
      "text/plain": [
       "38"
      ]
     },
     "execution_count": 15,
     "metadata": {},
     "output_type": "execute_result"
    },
    {
     "data": {
      "text/plain": [
       "36"
      ]
     },
     "execution_count": 15,
     "metadata": {},
     "output_type": "execute_result"
    },
    {
     "data": {
      "text/plain": [
       "46"
      ]
     },
     "execution_count": 15,
     "metadata": {},
     "output_type": "execute_result"
    },
    {
     "data": {
      "text/plain": [
       "48"
      ]
     },
     "execution_count": 15,
     "metadata": {},
     "output_type": "execute_result"
    },
    {
     "data": {
      "text/plain": [
       "32"
      ]
     },
     "execution_count": 15,
     "metadata": {},
     "output_type": "execute_result"
    },
    {
     "data": {
      "text/plain": [
       "45"
      ]
     },
     "execution_count": 15,
     "metadata": {},
     "output_type": "execute_result"
    },
    {
     "data": {
      "text/plain": [
       "34"
      ]
     },
     "execution_count": 15,
     "metadata": {},
     "output_type": "execute_result"
    },
    {
     "data": {
      "text/plain": [
       "34"
      ]
     },
     "execution_count": 15,
     "metadata": {},
     "output_type": "execute_result"
    },
    {
     "data": {
      "text/plain": [
       "36"
      ]
     },
     "execution_count": 15,
     "metadata": {},
     "output_type": "execute_result"
    },
    {
     "data": {
      "text/plain": [
       "38"
      ]
     },
     "execution_count": 15,
     "metadata": {},
     "output_type": "execute_result"
    },
    {
     "data": {
      "text/plain": [
       "41"
      ]
     },
     "execution_count": 15,
     "metadata": {},
     "output_type": "execute_result"
    },
    {
     "data": {
      "text/plain": [
       "37"
      ]
     },
     "execution_count": 15,
     "metadata": {},
     "output_type": "execute_result"
    },
    {
     "data": {
      "text/plain": [
       "38"
      ]
     },
     "execution_count": 15,
     "metadata": {},
     "output_type": "execute_result"
    },
    {
     "data": {
      "text/plain": [
       "35"
      ]
     },
     "execution_count": 15,
     "metadata": {},
     "output_type": "execute_result"
    },
    {
     "data": {
      "text/plain": [
       "37"
      ]
     },
     "execution_count": 15,
     "metadata": {},
     "output_type": "execute_result"
    },
    {
     "data": {
      "text/plain": [
       "39"
      ]
     },
     "execution_count": 15,
     "metadata": {},
     "output_type": "execute_result"
    },
    {
     "data": {
      "text/plain": [
       "38"
      ]
     },
     "execution_count": 15,
     "metadata": {},
     "output_type": "execute_result"
    },
    {
     "data": {
      "text/plain": [
       "39"
      ]
     },
     "execution_count": 15,
     "metadata": {},
     "output_type": "execute_result"
    },
    {
     "data": {
      "text/plain": [
       "42"
      ]
     },
     "execution_count": 15,
     "metadata": {},
     "output_type": "execute_result"
    },
    {
     "data": {
      "text/plain": [
       "45"
      ]
     },
     "execution_count": 15,
     "metadata": {},
     "output_type": "execute_result"
    },
    {
     "data": {
      "text/plain": [
       "41"
      ]
     },
     "execution_count": 15,
     "metadata": {},
     "output_type": "execute_result"
    },
    {
     "data": {
      "text/plain": [
       "40"
      ]
     },
     "execution_count": 15,
     "metadata": {},
     "output_type": "execute_result"
    },
    {
     "data": {
      "text/plain": [
       "41"
      ]
     },
     "execution_count": 15,
     "metadata": {},
     "output_type": "execute_result"
    },
    {
     "data": {
      "text/plain": [
       "36"
      ]
     },
     "execution_count": 15,
     "metadata": {},
     "output_type": "execute_result"
    },
    {
     "data": {
      "text/plain": [
       "44"
      ]
     },
     "execution_count": 15,
     "metadata": {},
     "output_type": "execute_result"
    },
    {
     "data": {
      "text/plain": [
       "49"
      ]
     },
     "execution_count": 15,
     "metadata": {},
     "output_type": "execute_result"
    },
    {
     "data": {
      "text/plain": [
       "39"
      ]
     },
     "execution_count": 15,
     "metadata": {},
     "output_type": "execute_result"
    },
    {
     "data": {
      "text/plain": [
       "36"
      ]
     },
     "execution_count": 15,
     "metadata": {},
     "output_type": "execute_result"
    },
    {
     "data": {
      "text/plain": [
       "39"
      ]
     },
     "execution_count": 15,
     "metadata": {},
     "output_type": "execute_result"
    },
    {
     "data": {
      "text/plain": [
       "35"
      ]
     },
     "execution_count": 15,
     "metadata": {},
     "output_type": "execute_result"
    },
    {
     "data": {
      "text/plain": [
       "35"
      ]
     },
     "execution_count": 15,
     "metadata": {},
     "output_type": "execute_result"
    },
    {
     "data": {
      "text/plain": [
       "41"
      ]
     },
     "execution_count": 15,
     "metadata": {},
     "output_type": "execute_result"
    },
    {
     "data": {
      "text/plain": [
       "39"
      ]
     },
     "execution_count": 15,
     "metadata": {},
     "output_type": "execute_result"
    },
    {
     "data": {
      "text/plain": [
       "34"
      ]
     },
     "execution_count": 15,
     "metadata": {},
     "output_type": "execute_result"
    },
    {
     "data": {
      "text/plain": [
       "35"
      ]
     },
     "execution_count": 15,
     "metadata": {},
     "output_type": "execute_result"
    },
    {
     "data": {
      "text/plain": [
       "37"
      ]
     },
     "execution_count": 15,
     "metadata": {},
     "output_type": "execute_result"
    },
    {
     "data": {
      "text/plain": [
       "42"
      ]
     },
     "execution_count": 15,
     "metadata": {},
     "output_type": "execute_result"
    },
    {
     "data": {
      "text/plain": [
       "38"
      ]
     },
     "execution_count": 15,
     "metadata": {},
     "output_type": "execute_result"
    },
    {
     "data": {
      "text/plain": [
       "44"
      ]
     },
     "execution_count": 15,
     "metadata": {},
     "output_type": "execute_result"
    },
    {
     "data": {
      "text/plain": [
       "38"
      ]
     },
     "execution_count": 15,
     "metadata": {},
     "output_type": "execute_result"
    },
    {
     "data": {
      "text/plain": [
       "39"
      ]
     },
     "execution_count": 15,
     "metadata": {},
     "output_type": "execute_result"
    },
    {
     "data": {
      "text/plain": [
       "43"
      ]
     },
     "execution_count": 15,
     "metadata": {},
     "output_type": "execute_result"
    },
    {
     "data": {
      "text/plain": [
       "35"
      ]
     },
     "execution_count": 15,
     "metadata": {},
     "output_type": "execute_result"
    },
    {
     "data": {
      "text/plain": [
       "34"
      ]
     },
     "execution_count": 15,
     "metadata": {},
     "output_type": "execute_result"
    },
    {
     "data": {
      "text/plain": [
       "34"
      ]
     },
     "execution_count": 15,
     "metadata": {},
     "output_type": "execute_result"
    },
    {
     "data": {
      "text/plain": [
       "42"
      ]
     },
     "execution_count": 15,
     "metadata": {},
     "output_type": "execute_result"
    },
    {
     "data": {
      "text/plain": [
       "33"
      ]
     },
     "execution_count": 15,
     "metadata": {},
     "output_type": "execute_result"
    }
   ],
   "source": [
    "#Export results\n",
    "# Save to CSV\n",
    "with open(f'../data/fracties.csv', 'w', newline='') as csvfile:\n",
    "    writer = csv.writer(csvfile)\n",
    "    for key, value in fracties_dict.items():\n",
    "        writer.writerow([key, value])\n",
    "\n",
    "with open(f'../data/parlementsleden.csv', 'w', newline='') as csvfile:\n",
    "    writer = csv.writer(csvfile)\n",
    "    for key, value in parlementsleden_all_dict.items():\n",
    "        writer.writerow([key, value])\n",
    "\n",
    "# Save to pickle file\n",
    "with open(f'../data/fracties.pkl', 'wb') as file:\n",
    "    pickle.dump(fracties_dict, file)\n",
    "\n",
    "with open(f'../data/parlementsleden.pkl', 'wb') as file:\n",
    "    pickle.dump(parlementsleden_all_dict, file)"
   ]
  },
  {
   "cell_type": "markdown",
   "id": "496e4926",
   "metadata": {},
   "source": [
    "## Commissions"
   ]
  },
  {
   "cell_type": "markdown",
   "id": "24352660",
   "metadata": {},
   "source": [
    "Then we obtain the current commissions. "
   ]
  },
  {
   "cell_type": "code",
   "execution_count": 16,
   "id": "9fd9bf3b",
   "metadata": {},
   "outputs": [],
   "source": [
    "commissies_json = get_endpoint(\"/comm/huidige\")\n",
    "\n",
    "# # Inspect data\n",
    "# commissies_json\n",
    "\n",
    "# Parse json into dataframe. Visual inspection showed data is stored in 'items' key\n",
    "commissies_pd = pd.DataFrame.from_dict(pd.json_normalize(commissies_json['items']), orient='columns')"
   ]
  },
  {
   "cell_type": "code",
   "execution_count": 17,
   "id": "3bd5173b",
   "metadata": {},
   "outputs": [],
   "source": [
    "# # Inspect results\n",
    "# commissies_pd.head()\n",
    "# commissies_pd.columns\n",
    "# # commissies_pd[\"commissie.titel\"]"
   ]
  },
  {
   "cell_type": "code",
   "execution_count": 18,
   "id": "f71e9d85",
   "metadata": {},
   "outputs": [],
   "source": [
    "#Only keep relevant columns\n",
    "commissions_overview_df = commissies_pd[[\"commissie.id\", \"commissie.titel\", \"commissie.link\"]]\n",
    "\n",
    "# # Inspect results\n",
    "# commissions_overview_df                                "
   ]
  },
  {
   "cell_type": "markdown",
   "id": "121a0e4f",
   "metadata": {},
   "source": [
    "Then we obtain more details for each commission, using information obtained when parsing the current commissions. We store this in a dict: `commissies_samenstelling_dict`."
   ]
  },
  {
   "cell_type": "code",
   "execution_count": 19,
   "id": "55329bf1",
   "metadata": {},
   "outputs": [],
   "source": [
    "# Parse information about each commission and store in dict\n",
    "commissies_samenstelling_dict = {}\n",
    "\n",
    "for commId in commissies_pd[\"commissie.id\"]:\n",
    "    commissies_samenstelling_dict[commId] = get_endpoint(f\"/comm/{commId}\")"
   ]
  },
  {
   "cell_type": "code",
   "execution_count": 20,
   "id": "96db45e3",
   "metadata": {},
   "outputs": [],
   "source": [
    "# # Inspect results\n",
    "# commissies_samenstelling_dict"
   ]
  },
  {
   "cell_type": "markdown",
   "id": "c4a8f5dd",
   "metadata": {},
   "source": [
    "Inspection of the results shows that for each commission (identified by its id), some information is provide, such as: `afkorting`, `naam`, `commissiesecretaris`, as well as `functie`. This last tag contains the various possible functions for members in the commission (such as 'voorzitter', 'vast lid', 'plaatsvervangend lid'), and the information of those members.  Hence, we can use this tag to extract the members of all commissions and store it in a dict `commission_members_dict`. We also assess which different functions occur over all commissions (see below). Based on these functions, we modify the cell below to store all relevant functions (e.g. if only 'ondervoorzitter' and 'secretary': for consistency store as 'eerste ondervoorzitter' en 'tweede ondervoorzitter').  "
   ]
  },
  {
   "cell_type": "code",
   "execution_count": 21,
   "id": "46aea37e",
   "metadata": {},
   "outputs": [
    {
     "name": "stderr",
     "output_type": "stream",
     "text": [
      "/tmp/ipykernel_28044/2428549152.py:5: SettingWithCopyWarning: \n",
      "A value is trying to be set on a copy of a slice from a DataFrame.\n",
      "Try using .loc[row_indexer,col_indexer] = value instead\n",
      "\n",
      "See the caveats in the documentation: https://pandas.pydata.org/pandas-docs/stable/user_guide/indexing.html#returning-a-view-versus-a-copy\n",
      "  commissions_overview_df[\"voorzitter\"] = \"\"\n",
      "/tmp/ipykernel_28044/2428549152.py:6: SettingWithCopyWarning: \n",
      "A value is trying to be set on a copy of a slice from a DataFrame.\n",
      "Try using .loc[row_indexer,col_indexer] = value instead\n",
      "\n",
      "See the caveats in the documentation: https://pandas.pydata.org/pandas-docs/stable/user_guide/indexing.html#returning-a-view-versus-a-copy\n",
      "  commissions_overview_df[\"eerste ondervoorzitter\"] = \"\"\n"
     ]
    }
   ],
   "source": [
    "# # Create empty dictionary to store members in\n",
    "# commission_members_dict = {}\n",
    "\n",
    "# Create empty columns in dataframe\n",
    "commissions_overview_df[\"voorzitter\"] = \"\"\n",
    "commissions_overview_df[\"eerste ondervoorzitter\"] = \"\"\n",
    "commissions_overview_df[\"tweede ondervoorzitter\"] = \"\"\n",
    "commissions_overview_df[\"derde ondervoorzitter\"] = \"\"\n",
    "commissions_overview_df[\"vierde ondervoorzitter\"] = \"\"\n",
    "commissions_overview_df[\"vaste leden\"] = \"\"\n",
    "commissions_overview_df[\"plaatsvervangende leden\"] = \"\" \n",
    "commissions_overview_df[\"toegevoegde leden\"] = \"\"\n",
    "\n",
    "# Create empty list to store all different functions (to later on create set of to find distinct functions)\n",
    "diff_functions_list = []\n",
    "\n",
    "# Iterate over all different commissions\n",
    "for index_overview, row_overview in commissions_overview_df.iterrows():\n",
    "    commissie_id = row_overview[\"commissie.id\"]\n",
    "    commissie_naam = row_overview[\"commissie.titel\"]\n",
    "    \n",
    "    # Check if the commissie_id exists in commissies_samenstelling_dict (if not doing so: yields error when nan as key)\n",
    "    if commissie_id in commissies_samenstelling_dict:\n",
    "        # store information on members, i.e. those in tag 'functie'\n",
    "        members = commissies_samenstelling_dict[commissie_id]['functie']\n",
    "        \n",
    "        # create empty list of names and functions for each new commission\n",
    "        names = []  \n",
    "        functions = []  \n",
    "\n",
    "        # Iterate over each function / group of members\n",
    "        for member_group in members:\n",
    "            function_name = member_group['naam']\n",
    "            # Go one level deeper to assess all members of the group / all those with this function\n",
    "            for person in member_group['lid']:\n",
    "                first_name = person['voornaam']\n",
    "                last_name = person['naam']\n",
    "                full_name = f\"{first_name} {last_name}\"\n",
    "                parlementslid_id = person['id']\n",
    "\n",
    "                names.append(full_name)\n",
    "                functions.append(function_name)\n",
    "\n",
    "        # Create defaultdict to group members by party, fill it, and retransfer to normal dict\n",
    "        parlementsleden_groupeddict = defaultdict(list)\n",
    "        for name, func in zip(names, functions):\n",
    "            parlementsleden_groupeddict[func].append(name)\n",
    "        parlementsleden_dict = dict(parlementsleden_groupeddict)\n",
    "        \n",
    "        # Append all functions to list to later on check all possible functions\n",
    "        for spec_function in parlementsleden_dict.keys():\n",
    "            diff_functions_list.append(spec_function) \n",
    "            \n",
    "        # Fill dataframe with all members performing specific functions\n",
    "        # include 'or []' to address cases where no such key found. Else, will yield None, wich cannot be concatenated with other None\n",
    "        # explicitly cast to list when using 'or []' since when you use the + operator with lists, it concatenates them as expected. \n",
    "        # However, in cases where there's a single item, it might sometimes return a tuple, especially when using the or [] approach to handle None values.\n",
    "        commissions_overview_df.at[index_overview, \"voorzitter\"] = parlementsleden_dict.get('voorzitter')\n",
    "        commissions_overview_df.at[index_overview, \"eerste ondervoorzitter\"] = list((parlementsleden_dict.get('eerste ondervoorzitter') or []) + \n",
    "                                                                                    (parlementsleden_dict.get('ondervoorzitter') or []))\n",
    "        commissions_overview_df.at[index_overview, \"tweede ondervoorzitter\"] = list((parlementsleden_dict.get('tweede ondervoorzitter') or []) + \n",
    "                                                                                    (parlementsleden_dict.get('secretaris') or []))\n",
    "        commissions_overview_df.at[index_overview, \"derde ondervoorzitter\"] = list((parlementsleden_dict.get('derde ondervoorzitter') or []) + \n",
    "                                                                                   (parlementsleden_dict.get('verslaggever') or []))\n",
    "        commissions_overview_df.at[index_overview, \"vierde ondervoorzitter\"] = parlementsleden_dict.get('vierde ondervoorzitter')\n",
    "        # Add to 'vaste leden' also anyone with important functions since they are in essence 'vast lid +'.\n",
    "        # Also add toegevoegd lid since they also provide information about absence. \n",
    "        commissions_overview_df.at[index_overview, \"vaste leden\"] = list((parlementsleden_dict.get('voorzitter') or []) +\n",
    "                                                                         (parlementsleden_dict.get('eerste ondervoorzitter') or []) + \n",
    "                                                                         (parlementsleden_dict.get('ondervoorzitter') or []) + \n",
    "                                                                         (parlementsleden_dict.get('tweede ondervoorzitter') or []) + \n",
    "                                                                         (parlementsleden_dict.get('secretaris') or []) + \n",
    "                                                                         (parlementsleden_dict.get('derde ondervoorzitter') or []) +\n",
    "                                                                         (parlementsleden_dict.get('verslaggever') or []) + \n",
    "                                                                         (parlementsleden_dict.get('vierde ondervoorzitter') or []) +\n",
    "                                                                         (parlementsleden_dict.get('vast lid') or []) + \n",
    "                                                                         (parlementsleden_dict.get('lid') or []) + \n",
    "                                                                         (parlementsleden_dict.get('toegevoegd lid') or [])                                                                      \n",
    "                                                                        )\n",
    "        commissions_overview_df.at[index_overview, \"plaatsvervangende leden\"] = parlementsleden_dict.get('plaatsvervangend lid')\n",
    "        commissions_overview_df.at[index_overview, \"toegevoegde leden\"] = parlementsleden_dict.get('toegevoegd lid')\n",
    "#         # Assess which commissions have 'verslaggever' as function\n",
    "#         # Onderzoekscommissie PFAS-PFOS apparantly has a 'verslaggever' \n",
    "#         if 'verslaggever' in parlementsleden_dict.keys():\n",
    "#             print (commissie_naam)"
   ]
  },
  {
   "cell_type": "code",
   "execution_count": 22,
   "id": "d1008e5b",
   "metadata": {},
   "outputs": [
    {
     "data": {
      "text/plain": [
       "{'derde ondervoorzitter',\n",
       " 'eerste ondervoorzitter',\n",
       " 'lid',\n",
       " 'ondervoorzitter',\n",
       " 'plaatsvervangend lid',\n",
       " 'secretaris',\n",
       " 'toegevoegd lid',\n",
       " 'tweede ondervoorzitter',\n",
       " 'vast lid',\n",
       " 'verslaggever',\n",
       " 'vierde ondervoorzitter',\n",
       " 'voorzitter'}"
      ]
     },
     "execution_count": 22,
     "metadata": {},
     "output_type": "execute_result"
    }
   ],
   "source": [
    "# Inspect all possible functions in various commissions\n",
    "set(diff_functions_list)\n",
    "\n",
    "# for key in commission_members_dict.keys():\n",
    "#     if commission_members_dict[key][]"
   ]
  },
  {
   "cell_type": "code",
   "execution_count": 23,
   "id": "85013aaa",
   "metadata": {},
   "outputs": [],
   "source": [
    "# # # Inspect results\n",
    "# # commissions_overview_df.iloc[1]['vaste leden']\n",
    "# commissions_overview_df"
   ]
  },
  {
   "cell_type": "markdown",
   "id": "0a3708cb",
   "metadata": {},
   "source": [
    "For some commissions, there does not seem to be much relevant information. For instance for the `Onderzoekscommissie naar de veiligheid in de kinderopvang`, `Werkgroep Institutionele Zaken` en de `Commissie ad hoc`, no permanent members or presidents are registered. Hence, those cannot be taken into account in a meaninful way to assess presence of members. Hence we can drop them out of the data frame and reset the indices. For `Controlecommissie voor Regeringsmededelingen`, no president is registered, but there are however permanent members."
   ]
  },
  {
   "cell_type": "code",
   "execution_count": 24,
   "id": "1f817626",
   "metadata": {},
   "outputs": [
    {
     "data": {
      "text/html": [
       "<div>\n",
       "<style scoped>\n",
       "    .dataframe tbody tr th:only-of-type {\n",
       "        vertical-align: middle;\n",
       "    }\n",
       "\n",
       "    .dataframe tbody tr th {\n",
       "        vertical-align: top;\n",
       "    }\n",
       "\n",
       "    .dataframe thead th {\n",
       "        text-align: right;\n",
       "    }\n",
       "</style>\n",
       "<table border=\"1\" class=\"dataframe\">\n",
       "  <thead>\n",
       "    <tr style=\"text-align: right;\">\n",
       "      <th></th>\n",
       "      <th>commissie.id</th>\n",
       "      <th>commissie.titel</th>\n",
       "      <th>commissie.link</th>\n",
       "      <th>voorzitter</th>\n",
       "      <th>eerste ondervoorzitter</th>\n",
       "      <th>tweede ondervoorzitter</th>\n",
       "      <th>derde ondervoorzitter</th>\n",
       "      <th>vierde ondervoorzitter</th>\n",
       "      <th>vaste leden</th>\n",
       "      <th>plaatsvervangende leden</th>\n",
       "      <th>toegevoegde leden</th>\n",
       "    </tr>\n",
       "  </thead>\n",
       "  <tbody>\n",
       "    <tr>\n",
       "      <th>0</th>\n",
       "      <td>1621329</td>\n",
       "      <td>Onderzoekscommissie naar de veiligheid in de k...</td>\n",
       "      <td>[{'href': 'https://ws.vlpar.be/e/opendata/comm...</td>\n",
       "      <td>None</td>\n",
       "      <td>[]</td>\n",
       "      <td>[]</td>\n",
       "      <td>[]</td>\n",
       "      <td>None</td>\n",
       "      <td>[]</td>\n",
       "      <td>None</td>\n",
       "      <td>None</td>\n",
       "    </tr>\n",
       "    <tr>\n",
       "      <th>2</th>\n",
       "      <td>1456916</td>\n",
       "      <td>Werkgroep Institutionele Zaken</td>\n",
       "      <td>[{'href': 'https://ws.vlpar.be/e/opendata/comm...</td>\n",
       "      <td>None</td>\n",
       "      <td>[]</td>\n",
       "      <td>[]</td>\n",
       "      <td>[]</td>\n",
       "      <td>None</td>\n",
       "      <td>[]</td>\n",
       "      <td>None</td>\n",
       "      <td>None</td>\n",
       "    </tr>\n",
       "    <tr>\n",
       "      <th>24</th>\n",
       "      <td>1320193</td>\n",
       "      <td>Commissie ad hoc</td>\n",
       "      <td>[{'href': 'https://ws.vlpar.be/e/opendata/comm...</td>\n",
       "      <td>None</td>\n",
       "      <td>[]</td>\n",
       "      <td>[]</td>\n",
       "      <td>[]</td>\n",
       "      <td>None</td>\n",
       "      <td>[]</td>\n",
       "      <td>None</td>\n",
       "      <td>None</td>\n",
       "    </tr>\n",
       "  </tbody>\n",
       "</table>\n",
       "</div>"
      ],
      "text/plain": [
       "    commissie.id  ... toegevoegde leden\n",
       "0        1621329  ...              None\n",
       "2        1456916  ...              None\n",
       "24       1320193  ...              None\n",
       "\n",
       "[3 rows x 11 columns]"
      ]
     },
     "execution_count": 24,
     "metadata": {},
     "output_type": "execute_result"
    }
   ],
   "source": [
    "commissions_overview_df[(commissions_overview_df['voorzitter'].isnull()) |\n",
    "                                       (commissions_overview_df['vaste leden'].apply(len) == 0)]"
   ]
  },
  {
   "cell_type": "code",
   "execution_count": 25,
   "id": "ad4f4d01",
   "metadata": {},
   "outputs": [],
   "source": [
    "commissions_overview_df.drop([0, 2, 24], inplace=True)\n",
    "# commissions_overview_df\n",
    "\n",
    "commissions_overview_df.reset_index(drop = True, inplace = True)\n",
    "# commissions_overview_df"
   ]
  },
  {
   "cell_type": "markdown",
   "id": "197e2db5",
   "metadata": {},
   "source": [
    "## Vergaderingen commissies"
   ]
  },
  {
   "cell_type": "markdown",
   "id": "b2497011-69fc-4444-8c8b-e3bac90d2517",
   "metadata": {},
   "source": [
    "To update the data, we need to ascertain which was the latest meeting currently registered. To do this, we load the current datafile, obtain the date of the last meeting. TheN we obtain all meetings from the day before this last meeting up until today. We start from the day before to be on the safe side, while later on removing duplicates. "
   ]
  },
  {
   "cell_type": "code",
   "execution_count": 26,
   "id": "17a1c3b9-ae26-4cde-b4d6-07c8e0dcc189",
   "metadata": {},
   "outputs": [
    {
     "name": "stdout",
     "output_type": "stream",
     "text": [
      "Amount of new meetings currently: 1216\n",
      "Starting point of monitoring: 2023-12-17.\n"
     ]
    }
   ],
   "source": [
    "# Read in current dataframe of all meetings\n",
    "meetings_all_commissions_df_current = pd.read_pickle(f'../data/meetings_all_commissions_df.pkl')\n",
    "\n",
    "# Inspect results\n",
    "print(\"Amount of new meetings currently:\", meetings_all_commissions_df_current.shape[0])\n",
    "\n",
    "# Obtain date of last meeting\n",
    "date_last_meeting = meetings_all_commissions_df_current[\"Datum vergadering\"].max()\n",
    "\n",
    "# Set start date one day earlier\n",
    "start = date_last_meeting - timedelta(days=1)\n",
    "print(f'Starting point of monitoring: {start}.')"
   ]
  },
  {
   "cell_type": "code",
   "execution_count": null,
   "id": "1cb723a5-b325-488f-84fd-4c64682bef8e",
   "metadata": {},
   "outputs": [],
   "source": []
  },
  {
   "cell_type": "code",
   "execution_count": 27,
   "id": "8d47dcda-fdb2-49a4-ac79-574078ed27af",
   "metadata": {},
   "outputs": [
    {
     "data": {
      "text/html": [
       "<div>\n",
       "<style scoped>\n",
       "    .dataframe tbody tr th:only-of-type {\n",
       "        vertical-align: middle;\n",
       "    }\n",
       "\n",
       "    .dataframe tbody tr th {\n",
       "        vertical-align: top;\n",
       "    }\n",
       "\n",
       "    .dataframe thead th {\n",
       "        text-align: right;\n",
       "    }\n",
       "</style>\n",
       "<table border=\"1\" class=\"dataframe\">\n",
       "  <thead>\n",
       "    <tr style=\"text-align: right;\">\n",
       "      <th></th>\n",
       "      <th>Datum vergadering</th>\n",
       "      <th>AANWEZIG</th>\n",
       "      <th>AFWEZIG</th>\n",
       "      <th>VERONTSCHULDIGD</th>\n",
       "      <th>AANWEZIG_vast</th>\n",
       "      <th>AFWEZIG_vast</th>\n",
       "      <th>VERONTSCHULDIGD_vast</th>\n",
       "      <th>commissie.titel</th>\n",
       "      <th>Aantal aanwezig alle leden</th>\n",
       "      <th>Aantal afwezig alle leden</th>\n",
       "      <th>Aantal verontschuldigd alle leden</th>\n",
       "      <th>Aantal aanwezig vaste leden</th>\n",
       "      <th>Aantal afwezig vaste leden</th>\n",
       "      <th>Aantal verontschuldigd vaste leden</th>\n",
       "    </tr>\n",
       "  </thead>\n",
       "  <tbody>\n",
       "    <tr>\n",
       "      <th>Vergadering 1622819</th>\n",
       "      <td>2022-04-01</td>\n",
       "      <td>[{'Naam': 'Staf Aerts', 'id': 4544, 'Fractie':...</td>\n",
       "      <td>[{'Naam': 'Rita Moors', 'id': 4524, 'Fractie':...</td>\n",
       "      <td>NaN</td>\n",
       "      <td>[{'Naam': 'Staf Aerts', 'id': 4544, 'Fractie':...</td>\n",
       "      <td>[{'Naam': 'Rita Moors', 'id': 4524, 'Fractie':...</td>\n",
       "      <td>[]</td>\n",
       "      <td>Commissie Vlaams Energie- en Klimaatplan</td>\n",
       "      <td>13.0</td>\n",
       "      <td>4.0</td>\n",
       "      <td>0.0</td>\n",
       "      <td>12.0</td>\n",
       "      <td>4.0</td>\n",
       "      <td>0.0</td>\n",
       "    </tr>\n",
       "    <tr>\n",
       "      <th>Vergadering 1624832</th>\n",
       "      <td>2022-04-22</td>\n",
       "      <td>[{'Naam': 'Staf Aerts', 'id': 4544, 'Fractie':...</td>\n",
       "      <td>[{'Naam': 'Arnout Coel', 'id': 4444, 'Fractie'...</td>\n",
       "      <td>NaN</td>\n",
       "      <td>[{'Naam': 'Staf Aerts', 'id': 4544, 'Fractie':...</td>\n",
       "      <td>[{'Naam': 'Arnout Coel', 'id': 4444, 'Fractie'...</td>\n",
       "      <td>[]</td>\n",
       "      <td>Commissie Vlaams Energie- en Klimaatplan</td>\n",
       "      <td>10.0</td>\n",
       "      <td>6.0</td>\n",
       "      <td>0.0</td>\n",
       "      <td>10.0</td>\n",
       "      <td>6.0</td>\n",
       "      <td>0.0</td>\n",
       "    </tr>\n",
       "    <tr>\n",
       "      <th>Vergadering 1628257</th>\n",
       "      <td>2022-04-29</td>\n",
       "      <td>[{'Naam': 'Staf Aerts', 'id': 4544, 'Fractie':...</td>\n",
       "      <td>[{'Naam': 'Peter Van Rompuy', 'id': 3918, 'Fra...</td>\n",
       "      <td>[{'Naam': 'Philippe Muyters', 'id': 3461, 'Fra...</td>\n",
       "      <td>[{'Naam': 'Staf Aerts', 'id': 4544, 'Fractie':...</td>\n",
       "      <td>[{'Naam': 'Peter Van Rompuy', 'id': 3918, 'Fra...</td>\n",
       "      <td>[{'Naam': 'Philippe Muyters', 'id': 3461, 'Fra...</td>\n",
       "      <td>Commissie Vlaams Energie- en Klimaatplan</td>\n",
       "      <td>13.0</td>\n",
       "      <td>2.0</td>\n",
       "      <td>1.0</td>\n",
       "      <td>12.0</td>\n",
       "      <td>2.0</td>\n",
       "      <td>1.0</td>\n",
       "    </tr>\n",
       "    <tr>\n",
       "      <th>Vergadering 1629767</th>\n",
       "      <td>2022-05-06</td>\n",
       "      <td>[{'Naam': 'Staf Aerts', 'id': 4544, 'Fractie':...</td>\n",
       "      <td>[{'Naam': 'Steven Coenegrachts', 'id': 4446, '...</td>\n",
       "      <td>[{'Naam': 'Allessia Claes', 'id': 4389, 'Fract...</td>\n",
       "      <td>[{'Naam': 'Staf Aerts', 'id': 4544, 'Fractie':...</td>\n",
       "      <td>[{'Naam': 'Steven Coenegrachts', 'id': 4446, '...</td>\n",
       "      <td>[{'Naam': 'Allessia Claes', 'id': 4389, 'Fract...</td>\n",
       "      <td>Commissie Vlaams Energie- en Klimaatplan</td>\n",
       "      <td>11.0</td>\n",
       "      <td>3.0</td>\n",
       "      <td>2.0</td>\n",
       "      <td>10.0</td>\n",
       "      <td>3.0</td>\n",
       "      <td>2.0</td>\n",
       "    </tr>\n",
       "    <tr>\n",
       "      <th>Vergadering 1630766</th>\n",
       "      <td>2022-05-13</td>\n",
       "      <td>[{'Naam': 'Staf Aerts', 'id': 4544, 'Fractie':...</td>\n",
       "      <td>[{'Naam': 'Peter Van Rompuy', 'id': 3918, 'Fra...</td>\n",
       "      <td>[{'Naam': 'Philippe Muyters', 'id': 3461, 'Fra...</td>\n",
       "      <td>[{'Naam': 'Staf Aerts', 'id': 4544, 'Fractie':...</td>\n",
       "      <td>[{'Naam': 'Peter Van Rompuy', 'id': 3918, 'Fra...</td>\n",
       "      <td>[{'Naam': 'Philippe Muyters', 'id': 3461, 'Fra...</td>\n",
       "      <td>Commissie Vlaams Energie- en Klimaatplan</td>\n",
       "      <td>13.0</td>\n",
       "      <td>2.0</td>\n",
       "      <td>1.0</td>\n",
       "      <td>12.0</td>\n",
       "      <td>2.0</td>\n",
       "      <td>1.0</td>\n",
       "    </tr>\n",
       "  </tbody>\n",
       "</table>\n",
       "</div>"
      ],
      "text/plain": [
       "                    Datum vergadering  ... Aantal verontschuldigd vaste leden\n",
       "Vergadering 1622819        2022-04-01  ...                                0.0\n",
       "Vergadering 1624832        2022-04-22  ...                                0.0\n",
       "Vergadering 1628257        2022-04-29  ...                                1.0\n",
       "Vergadering 1629767        2022-05-06  ...                                2.0\n",
       "Vergadering 1630766        2022-05-13  ...                                1.0\n",
       "\n",
       "[5 rows x 14 columns]"
      ]
     },
     "execution_count": 27,
     "metadata": {},
     "output_type": "execute_result"
    }
   ],
   "source": [
    "meetings_all_commissions_df_current.head()"
   ]
  },
  {
   "cell_type": "code",
   "execution_count": null,
   "id": "3004b7a4-5e0e-4609-b996-2d0a4067c9f5",
   "metadata": {},
   "outputs": [],
   "source": []
  },
  {
   "cell_type": "code",
   "execution_count": null,
   "id": "24da469d-e3d4-4879-8dd2-47cb806f7dc4",
   "metadata": {},
   "outputs": [],
   "source": []
  },
  {
   "cell_type": "code",
   "execution_count": 28,
   "id": "9ddf00b4-b439-4976-96d3-b30e1a8a1ef3",
   "metadata": {},
   "outputs": [],
   "source": [
    "# First, we obtain the relevant time frame for which we want to obtain attendance information. If we want to assess attendance at all meetings of the current legislature, we can use the `get_endpoint()` function to obtain this."
   ]
  },
  {
   "cell_type": "code",
   "execution_count": 29,
   "id": "c5807fbf",
   "metadata": {},
   "outputs": [],
   "source": [
    "# # use endpoint to obtain information about legislaturen\n",
    "# legislaturen = get_endpoint('/leg/alle')\n",
    "\n",
    "# # Extracting the most recent legislatuur start date\n",
    "# legislatuur_items = legislaturen['items']\n",
    "# most_recent_legislatuur = max(legislatuur_items, key=lambda x: x['legislatuur']['start-legislatuur'])\n",
    "# start_date_most_recent_legislatuur_str = most_recent_legislatuur['legislatuur']['start-legislatuur']\n",
    "# start_date_most_recent_legislatuur_str\n",
    "\n",
    "# start = datetime.strptime(start_date_most_recent_legislatuur_str, '%Y-%m-%dT%H:%M:%S%z').date()\n",
    "# print(f'Starting point of monitoring: {start}.')"
   ]
  },
  {
   "cell_type": "code",
   "execution_count": 30,
   "id": "3e6ed7ee",
   "metadata": {},
   "outputs": [
    {
     "name": "stdout",
     "output_type": "stream",
     "text": [
      "End point of monitoring: 2024-01-22.\n"
     ]
    }
   ],
   "source": [
    "# Set end time, (i.e. today)\n",
    "end = datetime.now().date()\n",
    "print(f'End point of monitoring: {end}.')"
   ]
  },
  {
   "cell_type": "code",
   "execution_count": 31,
   "id": "61b98087-4b51-4869-a2d9-c863e58f1d36",
   "metadata": {},
   "outputs": [],
   "source": [
    "# # Create string version (to append to filenames of output files)\n",
    "# end_str = end.strftime(\"%Y-%m-%d\")\n",
    "# end_str"
   ]
  },
  {
   "cell_type": "code",
   "execution_count": 32,
   "id": "45a5e9b5",
   "metadata": {},
   "outputs": [],
   "source": [
    "# # ========================= DEVELOPMENT ==============================================\n",
    "# # set temporary start time\n",
    "# start = datetime(2023, 9, 1).date()\n",
    "# print(f'Starting point of monitoring: {start}.')\n",
    "# # ========================= DEVELOPMENT =============================================="
   ]
  },
  {
   "cell_type": "markdown",
   "id": "af5976f8",
   "metadata": {},
   "source": [
    "Then we obtain all previous meetings for a specific commission, for a certain time frame. First, we create a helper function to extract the meeting id's of all relevant meetings (`extract_previous_meeting_ids_zoek()`). Then we use another helper function to use those meeting id's to extract the attendance information on all those meetings (`extract_meeting_details()`). "
   ]
  },
  {
   "cell_type": "code",
   "execution_count": 33,
   "id": "6d8dd03b",
   "metadata": {},
   "outputs": [],
   "source": [
    "def extract_previous_meeting_ids_zoek(start_date, end_date, commission_id):\n",
    "    # Convert dates to the required format (ddmmyyyy)\n",
    "    start_date_str = start_date.strftime(\"%d%m%Y\")\n",
    "    end_date_str = end_date.strftime(\"%d%m%Y\")\n",
    "\n",
    "    # API endpoint and parameters\n",
    "    endpoint = '/verg/zoek/datums'\n",
    "    params = {\n",
    "        'type': 'comm',  # Choosing plenaire meetings\n",
    "        'datumVan': start_date_str,\n",
    "        'datumTot': end_date_str,\n",
    "        'idComm': commission_id  # Specific commission ID\n",
    "    }\n",
    "\n",
    "    response = requests.get(base_url + endpoint, params=params)\n",
    "\n",
    "    if response.status_code == 200:\n",
    "        # Process the response data (e.g., extract meetings)\n",
    "        meetings = response.json()  # Assuming the response is in JSON format\n",
    "        \n",
    "        # Obtain meeting ids of all relevant meetings\n",
    "        meeting_ids = [item['vergadering']['id'] for item in meetings['items']]\n",
    "        \n",
    "        return meeting_ids\n",
    "    else:\n",
    "        print(f\"Failed to fetch meetings. Status code: {response.status_code}\")\n",
    "        return None"
   ]
  },
  {
   "cell_type": "code",
   "execution_count": 34,
   "id": "f13b0624",
   "metadata": {},
   "outputs": [],
   "source": [
    "def extract_meeting_details(idVerg:int):\n",
    "    # API endpoint and parameters\n",
    "    endpoint = f'/verg/{idVerg}'\n",
    "    params = {\n",
    "        'idVerg': idVerg  # Specific meeting ID\n",
    "    }\n",
    "\n",
    "    response = requests.get(base_url + endpoint, params=params)\n",
    "\n",
    "    if response.status_code == 200:\n",
    "        # Process the response data (e.g., extract meeting details)\n",
    "        meeting_details = response.json()  # Assuming the response is in JSON format\n",
    "        return meeting_details"
   ]
  },
  {
   "cell_type": "markdown",
   "id": "2dcc9ea6",
   "metadata": {},
   "source": [
    "Then we apply both functions to obtain all attendance information for all relevant meetings for all commissions, and store them in a dict.  "
   ]
  },
  {
   "cell_type": "code",
   "execution_count": 35,
   "id": "36ca737e",
   "metadata": {},
   "outputs": [
    {
     "name": "stdout",
     "output_type": "stream",
     "text": [
      "--------------------------------------------------\n",
      "Processing: 1622680, Commissie Vlaams Energie- en Klimaatplan\n",
      "+++ --> 1 meetings processed.\n",
      "--------------------------------------------------\n",
      "Processing: 1332937, Commissie voor Algemeen Beleid, Financiën, Begroting en Justitie\n",
      "+++ --> 1 meetings processed.\n",
      "--------------------------------------------------\n",
      "Processing: 1332966, Commissie voor Binnenlands Bestuur, Gelijke Kansen en Inburgering\n",
      "+++ --> 2 meetings processed.\n",
      "--------------------------------------------------\n",
      "Processing: 1332996, Commissie voor Brussel en de Vlaamse Rand en Dierenwelzijn\n",
      "+++ --> 2 meetings processed.\n",
      "--------------------------------------------------\n",
      "Processing: 1333030, Commissie voor Buitenlands Beleid, Europese Aangelegenheden, Internationale Samenwerking en Toerisme\n",
      "+++ --> 3 meetings processed.\n",
      "--------------------------------------------------\n",
      "Processing: 1333053, Commissie voor Cultuur, Jeugd, Sport en Media\n",
      "+++ --> 5 meetings processed.\n",
      "--------------------------------------------------\n",
      "Processing: 1333088, Commissie voor Economie, Werk, Sociale Economie, Wetenschap en Innovatie\n",
      "+++ --> 1 meetings processed.\n",
      "--------------------------------------------------\n",
      "Processing: 1333137, Commissie voor Landbouw, Visserij en Plattelandsbeleid\n",
      "+++ --> 2 meetings processed.\n",
      "--------------------------------------------------\n",
      "Processing: 1333177, Commissie voor Leefmilieu, Natuur, Ruimtelijke Ordening en Energie\n",
      "+++ --> 2 meetings processed.\n",
      "--------------------------------------------------\n",
      "Processing: 1333200, Commissie voor Mobiliteit en Openbare Werken\n",
      "+++ --> 2 meetings processed.\n",
      "--------------------------------------------------\n",
      "Processing: 1333231, Commissie voor Onderwijs\n",
      "----- No attendance information found for: idVerg: 1792085, meeting date: 2024-01-18\n",
      "+++ --> 3 meetings processed.\n",
      "--------------------------------------------------\n",
      "Processing: 1333260, Commissie voor Welzijn, Volksgezondheid, Gezin en Armoedebestrijding\n",
      "+++ --> 4 meetings processed.\n",
      "--------------------------------------------------\n",
      "Processing: 1333265, Commissie voor Wonen en Onroerend Erfgoed\n",
      "+++ --> 2 meetings processed.\n",
      "--------------------------------------------------\n",
      "Processing: 1333268, Commissie voor Reglement en Samenwerking\n",
      "+++ --> 0 meetings processed.\n",
      "--------------------------------------------------\n",
      "Processing: 1333270, Commissie voor de Vervolgingen\n",
      "+++ --> 0 meetings processed.\n",
      "--------------------------------------------------\n",
      "Processing: 1333275, Controlecommissie voor Regeringsmededelingen\n",
      "+++ --> 1 meetings processed.\n",
      "--------------------------------------------------\n",
      "Processing: 1333271, Deontologische Commissie\n",
      "No column 'AANWEZIG' for 16 Vergadering 1791594.\n",
      "No column 'AANWEZIG' for 16 Vergadering 1794417.\n",
      "+++ --> 2 meetings processed.\n",
      "--------------------------------------------------\n",
      "Processing: 1333276, Vlaamse Controlecommissie voor de Verkiezingsuitgaven\n",
      "+++ --> 0 meetings processed.\n",
      "--------------------------------------------------\n",
      "Processing: 1333281, Vlaamse Opvolgingscommissie voor de Vermogens- en Mandatenaangifte\n",
      "+++ --> 0 meetings processed.\n",
      "--------------------------------------------------\n",
      "Processing: 1352845, Commissie voor de bestrijding van gewelddadige radicalisering\n",
      "+++ --> 1 meetings processed.\n",
      "--------------------------------------------------\n",
      "Processing: 1773153, Bijzondere commissie voor de evaluatie van de aanpak van seksueel misbruik in de Kerk en in andere gezagsrelaties in het algemeen en van de rol van instellingen en voorzieningen op het terrein van jeugd, welzijn en onderwijs in het bijzonder\n",
      "+++ --> 5 meetings processed.\n",
      "--------------------------------------------------\n",
      "Processing: 1396349, Commissie ad hoc voor de Evaluatie en Verdere Uitvoering van het Vlaamse Coronabeleid\n",
      "+++ --> 0 meetings processed.\n",
      "--------------------------------------------------\n",
      "Processing: 1333282, Interparlementaire Commissie van de Nederlandse Taalunie\n",
      "+++ --> 0 meetings processed.\n",
      "--------------------------------------------------\n",
      "Processing: 1537200, Onderzoekscommissie PFAS-PFOS\n",
      "+++ --> 0 meetings processed.\n",
      "---------------------------------------------------------------------------\n",
      "--> Processing complete\n",
      "---------------------------------------------------------------------------\n"
     ]
    },
    {
     "name": "stdout",
     "output_type": "stream",
     "text": [
      "----- No attendance information found for: idVerg: 1577440, meeting date: 2021-12-09\n",
      "----- No attendance information found for: idVerg: 1579075, meeting date: 2021-12-16\n",
      "----- No attendance information found for: idVerg: 1585613, meeting date: 2021-12-23\n",
      "----- No attendance information found for: idVerg: 1588738, meeting date: 2022-01-13\n",
      "----- No attendance information found for: idVerg: 1613392, meeting date: 2022-03-10\n",
      "----- No attendance information found for: idVerg: 1673818, meeting date: 2022-10-24\n",
      "----- No attendance information found for: idVerg: 1691056, meeting date: 2022-12-22\n",
      "----- No attendance information found for: idVerg: 1757137, meeting date: 2023-07-13\n",
      "----- No attendance information found for: idVerg: 1770863, meeting date: 2023-10-18\n",
      "+++ --> 68 meetings processed.\n",
      "--------------------------------------------------\n",
      "Processing: 1333268, Commissie voor Reglement en Samenwerking\n",
      "----- No attendance information found for: idVerg: 1375866, meeting date: 2020-03-17\n",
      "+++ --> 1 meetings processed.\n",
      "--------------------------------------------------\n",
      "Processing: 1333270, Commissie voor de Vervolgingen\n",
      "----- No attendance information found for: idVerg: 1670968, meeting date: 2022-10-17\n",
      "----- No attendance information found for: idVerg: 1762021, meeting date: 2023-09-20\n",
      "No column 'AANWEZIG' for 14 Vergadering 1668182.\n",
      "No column 'AANWEZIG' for 14 Vergadering 1768333.\n",
      "No column 'AANWEZIG' for 14 Vergadering 1771064.\n",
      "+++ --> 3 meetings processed.\n",
      "--------------------------------------------------\n",
      "Processing: 1333275, Controlecommissie voor Regeringsmededelingen\n",
      "+++ --> 0 meetings processed.\n",
      "--------------------------------------------------\n",
      "Processing: 1333271, Deontologische Commissie\n",
      "----- No attendance information found for: idVerg: 1513243, meeting date: 2021-05-12\n",
      "No column 'AANWEZIG' for 16 Vergadering 1333623.\n",
      "No column 'AANWEZIG' for 16 Vergadering 1333623.\n",
      "+++ --> 1 meetings processed.\n",
      "--------------------------------------------------\n",
      "Processing: 1333276, Vlaamse Controlecommissie voor de Verkiezingsuitgaven\n",
      "+++ --> 2 meetings processed.\n",
      "--------------------------------------------------\n",
      "Processing: 1333281, Vlaamse Opvolgingscommissie voor de Vermogens- en Mandatenaangifte\n",
      "+++ --> 1 meetings processed.\n",
      "--------------------------------------------------\n",
      "Processing: 1352845, Commissie voor de bestrijding van gewelddadige radicalisering\n",
      "----- No attendance information found for: idVerg: 1380718, meeting date: 2020-03-18\n",
      "----- No attendance information found for: idVerg: 1405248, meeting date: 2020-07-01\n",
      "----- No attendance information found for: idVerg: 1424726, meeting date: 2020-10-07\n",
      "----- No attendance information found for: idVerg: 1432008, meeting date: 2020-10-21\n",
      "----- No attendance information found for: idVerg: 1450137, meeting date: 2020-12-09\n",
      "----- No attendance information found for: idVerg: 1484246, meeting date: 2021-03-09\n",
      "----- No attendance information found for: idVerg: 1500775, meeting date: 2021-04-21\n",
      "----- No attendance information found for: idVerg: 1520488, meeting date: 2021-05-26\n",
      "----- No attendance information found for: idVerg: 1524253, meeting date: 2021-06-09\n",
      "----- No attendance information found for: idVerg: 1529349, meeting date: 2021-06-16\n",
      "----- No attendance information found for: idVerg: 1533196, meeting date: 2021-06-23\n",
      "----- No attendance information found for: idVerg: 1694097, meeting date: 2023-01-25\n",
      "----- No attendance information found for: idVerg: 1700815, meeting date: 2023-03-01\n",
      "+++ --> 7 meetings processed.\n",
      "--------------------------------------------------\n",
      "Processing: 1773153, Bijzondere commissie voor de evaluatie van de aanpak van seksueel misbruik in de Kerk en in andere gezagsrelaties in het algemeen en van de rol van instellingen en voorzieningen op het terrein van jeugd, welzijn en onderwijs in het bijzonder\n",
      "+++ --> 10 meetings processed.\n",
      "--------------------------------------------------\n",
      "Processing: 1396349, Commissie ad hoc voor de Evaluatie en Verdere Uitvoering van het Vlaamse Coronabeleid\n",
      "----- No attendance information found for: idVerg: 1396470, meeting date: 2020-06-12\n",
      "----- No attendance information found for: idVerg: 1400582, meeting date: 2020-06-19\n",
      "----- No attendance information found for: idVerg: 1404776, meeting date: 2020-06-22\n",
      "----- No attendance information found for: idVerg: 1405157, meeting date: 2020-06-26\n",
      "----- No attendance information found for: idVerg: 1406565, meeting date: 2020-06-29\n",
      "----- No attendance information found for: idVerg: 1406600, meeting date: 2020-07-03\n",
      "----- No attendance information found for: idVerg: 1408286, meeting date: 2020-07-03\n",
      "----- No attendance information found for: idVerg: 1411026, meeting date: 2020-07-06\n",
      "----- No attendance information found for: idVerg: 1411035, meeting date: 2020-07-10\n",
      "----- No attendance information found for: idVerg: 1411064, meeting date: 2020-07-10\n",
      "----- No attendance information found for: idVerg: 1414948, meeting date: 2020-07-13\n",
      "----- No attendance information found for: idVerg: 1414959, meeting date: 2020-07-17\n",
      "----- No attendance information found for: idVerg: 1414968, meeting date: 2020-07-17\n",
      "----- No attendance information found for: idVerg: 1417903, meeting date: 2020-07-20\n",
      "----- No attendance information found for: idVerg: 1414966, meeting date: 2020-07-20\n",
      "----- No attendance information found for: idVerg: 1417909, meeting date: 2020-07-24\n",
      "----- No attendance information found for: idVerg: 1420191, meeting date: 2020-09-14\n",
      "----- No attendance information found for: idVerg: 1420207, meeting date: 2020-09-18\n",
      "----- No attendance information found for: idVerg: 1421503, meeting date: 2020-09-21\n",
      "----- No attendance information found for: idVerg: 1421510, meeting date: 2020-09-25\n",
      "----- No attendance information found for: idVerg: 1423887, meeting date: 2020-10-02\n",
      "----- No attendance information found for: idVerg: 1424973, meeting date: 2020-10-05\n",
      "----- No attendance information found for: idVerg: 1425009, meeting date: 2020-10-09\n",
      "----- No attendance information found for: idVerg: 1428648, meeting date: 2020-10-12\n",
      "----- No attendance information found for: idVerg: 1428696, meeting date: 2020-10-16\n",
      "----- No attendance information found for: idVerg: 1432494, meeting date: 2020-10-19\n",
      "----- No attendance information found for: idVerg: 1433846, meeting date: 2020-10-21\n",
      "----- No attendance information found for: idVerg: 1432513, meeting date: 2020-10-23\n",
      "----- No attendance information found for: idVerg: 1436188, meeting date: 2020-10-26\n",
      "----- No attendance information found for: idVerg: 1436213, meeting date: 2020-10-28\n",
      "----- No attendance information found for: idVerg: 1436226, meeting date: 2020-10-30\n",
      "----- No attendance information found for: idVerg: 1441281, meeting date: 2020-11-09\n",
      "----- No attendance information found for: idVerg: 1441308, meeting date: 2020-11-13\n",
      "----- No attendance information found for: idVerg: 1442792, meeting date: 2020-11-16\n",
      "----- No attendance information found for: idVerg: 1442835, meeting date: 2020-11-20\n",
      "----- No attendance information found for: idVerg: 1445118, meeting date: 2020-11-23\n",
      "----- No attendance information found for: idVerg: 1445129, meeting date: 2020-11-27\n",
      "----- No attendance information found for: idVerg: 1446741, meeting date: 2020-11-30\n",
      "----- No attendance information found for: idVerg: 1446772, meeting date: 2020-12-04\n",
      "----- No attendance information found for: idVerg: 1450386, meeting date: 2020-12-07\n",
      "----- No attendance information found for: idVerg: 1450396, meeting date: 2020-12-11\n",
      "----- No attendance information found for: idVerg: 1455327, meeting date: 2020-12-16\n",
      "+++ --> 0 meetings processed.\n",
      "--------------------------------------------------\n",
      "Processing: 1333282, Interparlementaire Commissie van de Nederlandse Taalunie\n",
      "----- No attendance information found for: idVerg: 1581658, meeting date: 2021-12-13\n",
      "+++ --> 7 meetings processed.\n",
      "--------------------------------------------------\n",
      "Processing: 1537200, Onderzoekscommissie PFAS-PFOS\n",
      "----- No attendance information found for: idVerg: 1537278, meeting date: 2021-06-25\n",
      "----- No attendance information found for: idVerg: 1538809, meeting date: 2021-06-28\n",
      "----- No attendance information found for: idVerg: 1540566, meeting date: 2021-07-02\n"
     ]
    },
    {
     "name": "stdout",
     "output_type": "stream",
     "text": [
      "----- No attendance information found for: idVerg: 1540569, meeting date: 2021-07-02\n",
      "----- No attendance information found for: idVerg: 1541393, meeting date: 2021-07-09\n",
      "----- No attendance information found for: idVerg: 1541972, meeting date: 2021-07-09\n",
      "----- No attendance information found for: idVerg: 1545091, meeting date: 2021-07-16\n",
      "----- No attendance information found for: idVerg: 1545104, meeting date: 2021-07-16\n",
      "----- No attendance information found for: idVerg: 1548095, meeting date: 2021-08-16\n",
      "----- No attendance information found for: idVerg: 1548098, meeting date: 2021-08-20\n",
      "----- No attendance information found for: idVerg: 1548244, meeting date: 2021-08-27\n",
      "----- No attendance information found for: idVerg: 1548251, meeting date: 2021-08-27\n",
      "----- No attendance information found for: idVerg: 1548455, meeting date: 2021-08-30\n",
      "----- No attendance information found for: idVerg: 1548466, meeting date: 2021-09-03\n",
      "----- No attendance information found for: idVerg: 1548766, meeting date: 2021-09-03\n",
      "----- No attendance information found for: idVerg: 1548897, meeting date: 2021-09-06\n",
      "----- No attendance information found for: idVerg: 1549473, meeting date: 2021-09-15\n",
      "----- No attendance information found for: idVerg: 1550533, meeting date: 2021-09-24\n",
      "----- No attendance information found for: idVerg: 1550752, meeting date: 2021-09-24\n",
      "----- No attendance information found for: idVerg: 1553840, meeting date: 2021-10-01\n",
      "----- No attendance information found for: idVerg: 1553846, meeting date: 2021-10-01\n",
      "----- No attendance information found for: idVerg: 1557130, meeting date: 2021-10-06\n",
      "----- No attendance information found for: idVerg: 1556024, meeting date: 2021-10-08\n",
      "----- No attendance information found for: idVerg: 1556029, meeting date: 2021-10-08\n",
      "----- No attendance information found for: idVerg: 1559757, meeting date: 2021-10-15\n",
      "----- No attendance information found for: idVerg: 1559780, meeting date: 2021-10-15\n",
      "----- No attendance information found for: idVerg: 1563337, meeting date: 2021-10-22\n",
      "----- No attendance information found for: idVerg: 1563382, meeting date: 2021-10-22\n",
      "----- No attendance information found for: idVerg: 1566931, meeting date: 2021-10-29\n",
      "----- No attendance information found for: idVerg: 1566967, meeting date: 2021-10-29\n",
      "----- No attendance information found for: idVerg: 1570252, meeting date: 2021-11-08\n",
      "----- No attendance information found for: idVerg: 1570387, meeting date: 2021-11-08\n",
      "----- No attendance information found for: idVerg: 1572742, meeting date: 2021-11-19\n",
      "----- No attendance information found for: idVerg: 1572760, meeting date: 2021-11-19\n",
      "----- No attendance information found for: idVerg: 1575753, meeting date: 2021-11-22\n",
      "----- No attendance information found for: idVerg: 1575858, meeting date: 2021-11-26\n",
      "----- No attendance information found for: idVerg: 1577144, meeting date: 2021-11-26\n",
      "----- No attendance information found for: idVerg: 1577020, meeting date: 2021-12-03\n",
      "----- No attendance information found for: idVerg: 1577043, meeting date: 2021-12-03\n",
      "----- No attendance information found for: idVerg: 1582061, meeting date: 2021-12-17\n",
      "----- No attendance information found for: idVerg: 1588912, meeting date: 2022-01-10\n",
      "----- No attendance information found for: idVerg: 1588944, meeting date: 2022-01-10\n",
      "----- No attendance information found for: idVerg: 1588955, meeting date: 2022-01-14\n",
      "----- No attendance information found for: idVerg: 1589547, meeting date: 2022-01-14\n",
      "----- No attendance information found for: idVerg: 1592387, meeting date: 2022-01-17\n",
      "----- No attendance information found for: idVerg: 1592446, meeting date: 2022-01-17\n",
      "----- No attendance information found for: idVerg: 1594801, meeting date: 2022-01-21\n",
      "----- No attendance information found for: idVerg: 1595979, meeting date: 2022-01-24\n",
      "----- No attendance information found for: idVerg: 1596023, meeting date: 2022-01-24\n",
      "----- No attendance information found for: idVerg: 1599233, meeting date: 2022-01-31\n",
      "----- No attendance information found for: idVerg: 1602290, meeting date: 2022-02-07\n",
      "----- No attendance information found for: idVerg: 1603207, meeting date: 2022-02-07\n",
      "----- No attendance information found for: idVerg: 1613784, meeting date: 2022-03-07\n",
      "----- No attendance information found for: idVerg: 1614195, meeting date: 2022-03-11\n",
      "----- No attendance information found for: idVerg: 1614201, meeting date: 2022-03-11\n",
      "----- No attendance information found for: idVerg: 1617383, meeting date: 2022-03-18\n",
      "+++ --> 9 meetings processed.\n",
      "---------------------------------------------------------------------------\n",
      "--> Processing complete\n",
      "---------------------------------------------------------------------------\n"
     ]
    }
   ],
   "source": [
    "# Create empty column to store total of meetings for commission in relevant timeframe\n",
    "commissions_overview_df[\"aantal vergaderingen\"] = ''\n",
    "\n",
    "# Create empty dict to store attendance information for all relevant meetings for all commissions \n",
    "overall_attendance_dict = {}\n",
    "\n",
    "# Iterate over each commission\n",
    "for index_overview, row_overview in commissions_overview_df.iterrows():\n",
    "    # Obtain commission_id, commission_title and vaste leden\n",
    "    commission_id = row_overview[\"commissie.id\"]\n",
    "    commission_title = row_overview[\"commissie.titel\"]\n",
    "    vaste_leden_spec_comm = row_overview[\"vaste leden\"]\n",
    "    \n",
    "    #Show progress\n",
    "    print(\"-\" * 50)\n",
    "    print(f\"Processing: {commission_id}, {commission_title}\")\n",
    "    \n",
    "    # For each commisison: obtain the meeting ids of the relevant previous meetings\n",
    "    previous_meetings_ids = extract_previous_meeting_ids_zoek(start, end, commission_id)\n",
    "    \n",
    "    # Create empty dict to store information about the meetings of those meeting ids in\n",
    "    aanwezigheid_vergaderingen_spec_comm_dict = {}\n",
    "    \n",
    "    # For each of the meeting ids: extract the meeting details, and store in dict  \n",
    "    for idVerg in previous_meetings_ids:\n",
    "        meeting_details = extract_meeting_details(idVerg)\n",
    "        \n",
    "        # Extract date of meeting (us 'datumagendering' and not e.g. 'datumbegin': if meeting cancelled: othterwise key error)\n",
    "        #meeting_date = meeting_details['vergadering']['commissie'][0]['datumvan']\n",
    "        meeting_date_str = meeting_details['vergadering']['datumagendering'] \n",
    "        meeting_date = datetime.strptime(meeting_date_str, \"%Y-%m-%dT%H:%M:%S%z\").date()\n",
    "        \n",
    "        #Create empty dict to store aanwezigheidsinformatie of specifieke vergadering\n",
    "        aanwezigheid_spec_verg_dict = {}\n",
    "        \n",
    "        # Add date of meeting: convert extracted string to correct format to read as datetime object, and then only extract date()\n",
    "        aanwezigheid_spec_verg_dict['Datum vergadering'] = meeting_date\n",
    "        \n",
    "        # Iterate over the various attendance statuses ('AANWEZIG', 'AFWEZIG', 'VERONTSCHULDIGD') \n",
    "        # Add try-except to address KeyErrors about 'aanwezigheid'\n",
    "        try:    \n",
    "            for attendance_status in meeting_details['vergadering']['aanwezigheid']:\n",
    "                status = attendance_status['aanwezigheid-status']\n",
    "                aanwezigheid_spec_verg_dict[status] = [] #Create empty list for this status to later on fill with members\n",
    "\n",
    "                # Iterate over all people that are stored under that attendence status and obtain personal information\n",
    "                for person in attendance_status['persoon']:\n",
    "                    full_name = f\"{person['voornaam']} {person['naam']}\"\n",
    "                    person_info = {\n",
    "                        'Naam': full_name,\n",
    "                        'id': person['id'],\n",
    "                        'Fractie': person['fractie']['naam']\n",
    "                    }\n",
    "#                     # Store as list instead of dict to allow easier rendering in Dash\n",
    "#                     person_info = [full_name, person['id'], person['fractie']['naam']]\n",
    "                    # Store information in dict of spec meeting\n",
    "                    aanwezigheid_spec_verg_dict[status].append(person_info)\n",
    "            # Store information in attandance information dict of all relevant meetings\n",
    "            aanwezigheid_vergaderingen_spec_comm_dict[\"Vergadering \" + str(idVerg)] = aanwezigheid_spec_verg_dict\n",
    "        except KeyError:\n",
    "            print(f'----- No attendance information found for: idVerg: {idVerg}, meeting date: {meeting_date}')\n",
    "    \n",
    "        \n",
    "    \n",
    "    # Transform data to dataframe for easier handling\n",
    "    spec_comm_df = pd.DataFrame.from_dict(aanwezigheid_vergaderingen_spec_comm_dict,\n",
    "                                          orient='index') # use index orientation to get meetings as rows\n",
    "    \n",
    "    # Create new empty columns to contain only attendance status for permanent members\n",
    "    spec_comm_df[\"AANWEZIG_vast\"], spec_comm_df[\"AFWEZIG_vast\"], spec_comm_df[\"VERONTSCHULDIGD_vast\"] = \"\", \"\", \"\"\n",
    "\n",
    "    # Iterate over each meeting of specific commission and assign the permanent members to the relevant attendance status in new columns\n",
    "    # Use try-except to handle commissions where no column 'Afwezig' is registered\n",
    "    for index_spec_comm, row_spec_comm in spec_comm_df.iterrows():\n",
    "        try:\n",
    "            spec_comm_df.at[index_spec_comm, \"AANWEZIG_vast\"] = [member for member in row_spec_comm[\"AANWEZIG\"] if member[\"Naam\"] in vaste_leden_spec_comm] if isinstance(row_spec_comm[\"AANWEZIG\"], list) else []\n",
    "        except: \n",
    "            spec_comm_df.at[index_spec_comm, \"AANWEZIG_vast\"] = None\n",
    "            print(f\"No column 'AANWEZIG' for {index_overview} {index_spec_comm}.\")\n",
    "        try: \n",
    "            spec_comm_df.at[index_spec_comm, \"AFWEZIG_vast\"] = [member for member in row_spec_comm[\"AFWEZIG\"] if member[\"Naam\"] in vaste_leden_spec_comm] if isinstance(row_spec_comm[\"AFWEZIG\"], list) else []\n",
    "        except: \n",
    "            spec_comm_df.at[index_spec_comm, \"AFWEZIG_vast\"] = None\n",
    "            print(f\"No column 'AANWEZIG' for {index_overview} {index_spec_comm}.\")\n",
    "        try: \n",
    "            spec_comm_df.at[index_spec_comm, \"VERONTSCHULDIGD_vast\"] = [member for member in row_spec_comm[\"VERONTSCHULDIGD\"] if member[\"Naam\"] in vaste_leden_spec_comm] if isinstance(row_spec_comm[\"VERONTSCHULDIGD\"], list) else []\n",
    "        except: \n",
    "            spec_comm_df.at[index_spec_comm, \"VERONTSCHULDIGD_vast\"] = None\n",
    "            print(f\"No column 'AANWEZIG' for {index_overview} {index_spec_comm}.\")\n",
    "        \n",
    "    \n",
    "    # Add commission name to each row, for easier filtering later on\n",
    "    spec_comm_df['commissie.titel'] = commission_title\n",
    "    \n",
    "    # Store amount of meetings for this commission in main dataframe\n",
    "    commissions_overview_df.at[index_overview, \"aantal vergaderingen\"] = spec_comm_df.shape[0]\n",
    "    \n",
    "    # Store all attendance information of all meetings of this commission in overall dict for later assessment\n",
    "    overall_attendance_dict[commission_title] = spec_comm_df\n",
    "    \n",
    "    \n",
    "    #Show progress\n",
    "    print(f\"+++ --> {len(overall_attendance_dict[commission_title])} meetings processed.\")\n",
    "print(\"-\" * 75)\n",
    "print(\"--> Processing complete\")\n",
    "print(\"-\" * 75)"
   ]
  },
  {
   "cell_type": "code",
   "execution_count": 36,
   "id": "6152792a",
   "metadata": {
    "scrolled": true
   },
   "outputs": [],
   "source": [
    "# # Inspect results\n",
    "# overall_attendance_dict.keys()\n",
    "# overall_attendance_dict['Commissie voor Cultuur, Jeugd, Sport en Media']\n",
    "\n",
    "# commissions_overview_df[[\"commissie.titel\", \"aantal vergaderingen\"]]"
   ]
  },
  {
   "cell_type": "code",
   "execution_count": 37,
   "id": "1427ea0a",
   "metadata": {},
   "outputs": [
    {
     "name": "stdout",
     "output_type": "stream",
     "text": [
      "Amount of new meetings since last update: 39\n",
      "Amount of meetings on last day of initial data set: 0\n",
      "Amount of meetings on day before last day of initial data set (i.e. extra day): 1\n"
     ]
    }
   ],
   "source": [
    "# Extract all meetings of all commissions, and store in dataframe\n",
    "new_meetings_all_commissions_df = pd.concat([overall_attendance_dict[key] for key in overall_attendance_dict.keys()])\n",
    "\n",
    "# Inspect results\n",
    "print(\"Amount of new meetings since last update:\", new_meetings_all_commissions_df.shape[0])\n",
    "\n",
    "print(\"Amount of meetings on last day of initial data set:\", \n",
    "      new_meetings_all_commissions_df[new_meetings_all_commissions_df['Datum vergadering'] == start].shape[0])\n",
    "print(\"Amount of meetings on day before last day of initial data set (i.e. extra day):\",\n",
    "      new_meetings_all_commissions_df[new_meetings_all_commissions_df['Datum vergadering'] == date_last_meeting].shape[0])"
   ]
  },
  {
   "cell_type": "markdown",
   "id": "1a3bf0cf-ec91-4f00-9558-974a6f1b3d35",
   "metadata": {},
   "source": [
    "Then we merge dataframe of the old and new meeting and remove duplicates. For this, we can use the indices, as they contain the meeting id's. This is relevant since some entries are exactly identical, e.g. when 2 meetings occur on the same day with the same attendance (e.g. a full day meeting stretched over a morning and afternoon meeting). "
   ]
  },
  {
   "cell_type": "code",
   "execution_count": 38,
   "id": "42658bdb-0f21-4490-b461-3ba8c632a27c",
   "metadata": {},
   "outputs": [
    {
     "name": "stdout",
     "output_type": "stream",
     "text": [
      "Amount of total meetings after update (incl. duplicates): 1255\n"
     ]
    }
   ],
   "source": [
    "# Concatenate the dataframes of the old meetings and the new meetings\n",
    "meetings_all_commissions_df_all = pd.concat([meetings_all_commissions_df_current, \n",
    "                                             new_meetings_all_commissions_df])\n",
    "\n",
    "# Inspect results\n",
    "print(\"Amount of total meetings after update (incl. duplicates):\", \n",
    "      meetings_all_commissions_df_all.shape[0])"
   ]
  },
  {
   "cell_type": "code",
   "execution_count": 39,
   "id": "26879f75-5367-4c9a-aede-648bef54f6bc",
   "metadata": {},
   "outputs": [
    {
     "name": "stdout",
     "output_type": "stream",
     "text": [
      "Amount of total meetings after update (excl. duplicates): 1255\n"
     ]
    }
   ],
   "source": [
    "# Convert all values in dataframe to strings to avoid errors when using 'duplicated' feature later on (i.e. cannot work with lists) \n",
    "meetings_all_commissions_df_all_str = meetings_all_commissions_df_all.astype(str)\n",
    "\n",
    "# Convert the index to a column (to be able to take it into account for the duplicate analysis) \n",
    "meetings_all_commissions_df_all_str['Index'] = meetings_all_commissions_df_all_str.index\n",
    "\n",
    "\n",
    "# Create a boolean mask for non-duplicated items, using the transformed dataframe\n",
    "mask = ~meetings_all_commissions_df_all_str.duplicated(keep='first')\n",
    "\n",
    "# Apply the mask to the original DataFrame to filter out any duplicates\n",
    "meetings_all_commissions_df = meetings_all_commissions_df_all[mask]\n",
    "\n",
    "# Inspect results\n",
    "print(\"Amount of total meetings after update (excl. duplicates):\", \n",
    "      meetings_all_commissions_df.shape[0])"
   ]
  },
  {
   "cell_type": "markdown",
   "id": "d5ac1413",
   "metadata": {},
   "source": [
    "Then we further modify the resulting dataframes. First we create some empty columns that will be later on filled during the interactive dash application. Some columns (i.e. those in `meetings_all_commissions_df` indicating how many members were present/absent/absent with notice, can however already be filled.  "
   ]
  },
  {
   "cell_type": "code",
   "execution_count": 40,
   "id": "26611907",
   "metadata": {},
   "outputs": [],
   "source": [
    "# Create empty columns in commissions_overview_df to fill later on using .loc\n",
    "columns_to_fill = [\n",
    "    'aanwezig_count_alle', 'afwezig_count_alle', 'verontschuldigd_count_alle',\n",
    "    'aanwezig_count_vaste', 'afwezig_count_vaste', 'verontschuldigd_count_vaste',\n",
    "    'Gemiddelde aantal aanwezig alle leden', 'Gemiddelde aantal afwezig alle leden', \n",
    "    'Gemiddelde aantal verontschuldigd alle leden',\n",
    "    'Gemiddelde aantal aanwezig vaste leden', 'Gemiddelde aantal afwezig vaste leden',\n",
    "    'Gemiddelde aantal verontschuldigd vaste leden']\n",
    "\n",
    "# Assign empty strings and NaN values explicitly using .loc\n",
    "for column in columns_to_fill:\n",
    "    commissions_overview_df.loc[:, column] = \"\" if 'count' in column else np.nan"
   ]
  },
  {
   "cell_type": "code",
   "execution_count": 41,
   "id": "c047c3dc",
   "metadata": {},
   "outputs": [],
   "source": [
    "# Create empty columns in meetings_all_commissions_filtered_df\n",
    "new_columns = [\"Aantal aanwezig alle leden\", \"Aantal afwezig alle leden\", \"Aantal verontschuldigd alle leden\",\n",
    "    \"Aantal aanwezig vaste leden\", \"Aantal afwezig vaste leden\", \"Aantal verontschuldigd vaste leden\"]\n",
    "\n",
    "# Assign np.nan to the new columns\n",
    "for new_col in new_columns:\n",
    "    meetings_all_commissions_df[new_col] = np.nan\n",
    "\n",
    "# Define a function to get the count for each column\n",
    "def get_count(column):\n",
    "    return len(column) if isinstance(column, list) else 0\n",
    "\n",
    "# Modify meetings_all_commissions_filtered_df with counts for attendance statuses \n",
    "for index_spec, row_specific in meetings_all_commissions_df.iterrows():\n",
    "    for column_name_spec_to_fill, column_name_to_calculate_from in zip(\n",
    "        [\"Aantal aanwezig alle leden\", \"Aantal afwezig alle leden\", \"Aantal verontschuldigd alle leden\",\n",
    "         \"Aantal aanwezig vaste leden\", \"Aantal afwezig vaste leden\", \"Aantal verontschuldigd vaste leden\"],\n",
    "        ['AANWEZIG', 'AFWEZIG', 'VERONTSCHULDIGD','AANWEZIG_vast', 'AFWEZIG_vast', 'VERONTSCHULDIGD_vast']):\n",
    "        meetings_all_commissions_df.at[index_spec, column_name_spec_to_fill] = get_count(\n",
    "            meetings_all_commissions_df.loc[index_spec, column_name_to_calculate_from])"
   ]
  },
  {
   "cell_type": "code",
   "execution_count": 43,
   "id": "6a8eb304",
   "metadata": {},
   "outputs": [],
   "source": [
    "# # Inspect results\n",
    "# commissions_overview_df\n",
    "# meetings_all_commissions_df"
   ]
  },
  {
   "cell_type": "code",
   "execution_count": 46,
   "id": "52ea49c9",
   "metadata": {},
   "outputs": [],
   "source": [
    "# Extract a version of the dataframe that only contains the names of the members (i.e. the third element)\n",
    "# Obtain copy of relevant dataframe\n",
    "meetings_all_commissions_short_df = copy.deepcopy(meetings_all_commissions_df)\n",
    "# Define the columns to modify\n",
    "columns_to_modify = [col for col in ['AANWEZIG', 'AFWEZIG', 'VERONTSCHULDIGD','AANWEZIG_vast', 'AFWEZIG_vast', 'VERONTSCHULDIGD_vast']]\n",
    "\n",
    "\n",
    "# Apply function to modify columns\n",
    "for col in columns_to_modify:\n",
    "    meetings_all_commissions_short_df[col] = meetings_all_commissions_short_df[col].apply(\n",
    "        lambda x: [item[\"Naam\"] for item in x] if isinstance(x, list) else None)"
   ]
  },
  {
   "cell_type": "code",
   "execution_count": 45,
   "id": "c693e5ec-e9f2-4c1e-b968-517bacaa85ee",
   "metadata": {},
   "outputs": [],
   "source": [
    "# # Inspect results\n",
    "# meetings_all_commissions_short_df"
   ]
  },
  {
   "cell_type": "markdown",
   "id": "dd7fc223-e414-4981-8f7a-41d3a3cbfaa0",
   "metadata": {},
   "source": [
    "Then we save the dataframes. "
   ]
  },
  {
   "cell_type": "code",
   "execution_count": null,
   "id": "0daedb25",
   "metadata": {},
   "outputs": [],
   "source": [
    "# ## Save dict with all dataframes for later use\n",
    "# # 1. Save as pkl. \n",
    "# with open(f'../data/vergaderingen_commissies/overall_attendance_dict_{today_str}.pkl', 'wb') as file:\n",
    "#     pickle.dump(overall_attendance_dict, file)\n",
    "\n",
    "# # 2. Save as xlsx (for easier visual inspection)\n",
    "# # Create a Pandas Excel writer using xlsxwriter as the engine\n",
    "# with pd.ExcelWriter(f'../data/vergaderingen_commissies/overall_attendance_dict_{today_str}.xlsx', engine='xlsxwriter') as writer:\n",
    "#     # Loop through each key-value pair in the dictionary\n",
    "#     for key, df in overall_attendance_dict.items():\n",
    "#         # Write each DataFrame to a specific sheet in the Excel file\n",
    "#         # Limit Excel worksheet name to 30 chars, else error\n",
    "#         df.to_excel(writer, sheet_name=key[:31], index=False)"
   ]
  },
  {
   "cell_type": "code",
   "execution_count": 48,
   "id": "655e3605-b172-4f3d-b388-87392aa7f52c",
   "metadata": {},
   "outputs": [],
   "source": [
    "## Save meetings_all_commissions_df for later use\n",
    "# 1. Save as pkl\n",
    "with open(f'../data/meetings_all_commissions_df.pkl', 'wb') as file:\n",
    "    pickle.dump(meetings_all_commissions_df, file)\n",
    "\n",
    "# 2. Save as csv\n",
    "meetings_all_commissions_df.to_csv(path_or_buf = f'../data/meetings_all_commissions_df.csv',\n",
    "                               sep = \";\",\n",
    "                               encoding = \"utf-16\", # to ensure trema's are well handled (e.g. Koen Daniëls)\n",
    "                               index = False)"
   ]
  },
  {
   "cell_type": "code",
   "execution_count": 49,
   "id": "5b6f1add",
   "metadata": {},
   "outputs": [],
   "source": [
    "# ## Save meetings_all_commissions_df for later use\n",
    "# # 1. Save as pkl\n",
    "# with open(f'../data/meetings_all_commissions_df_{today_str}.pkl', 'wb') as file:\n",
    "#     pickle.dump(meetings_all_commissions_df, file)\n",
    "\n",
    "# # 2. Save as csv\n",
    "# meetings_all_commissions_df.to_csv(path_or_buf = f'../data/meetings_all_commissions_df_{today_str}.csv',\n",
    "#                                sep = \";\",\n",
    "#                                encoding = \"utf-16\", # to ensure trema's are well handled (e.g. Koen Daniëls)\n",
    "#                                index = False)"
   ]
  },
  {
   "cell_type": "code",
   "execution_count": 50,
   "id": "29293e9b",
   "metadata": {},
   "outputs": [],
   "source": [
    "## Save meetings_all_commissions_short_df for later use\n",
    "# 1. Save as pkl\n",
    "with open(f'../data/meetings_all_commissions_short_df.pkl', 'wb') as file:\n",
    "    pickle.dump(meetings_all_commissions_short_df, file)\n",
    "\n",
    "# 2. Save as csv\n",
    "meetings_all_commissions_short_df.to_csv(path_or_buf = f'../data/meetings_all_commissions_short_df.csv',\n",
    "                                         sep = \";\",\n",
    "                                         encoding = \"utf-16\", # to ensure trema's are well handled (e.g. Koen Daniëls)\n",
    "                                         index = False)"
   ]
  },
  {
   "cell_type": "code",
   "execution_count": 51,
   "id": "ef85567b-5f61-4d6e-97f9-3b60d7825eed",
   "metadata": {},
   "outputs": [],
   "source": [
    "# ## Save meetings_all_commissions_short_df for later use\n",
    "# # 1. Save as pkl\n",
    "# with open(f'../data/meetings_all_commissions_short_df_{today_str}.pkl', 'wb') as file:\n",
    "#     pickle.dump(meetings_all_commissions_short_df, file)\n",
    "\n",
    "# # 2. Save as csv\n",
    "# meetings_all_commissions_short_df.to_csv(path_or_buf = f'../data/meetings_all_commissions_short_df_{today_str}.csv',\n",
    "#                                          sep = \";\",\n",
    "#                                          encoding = \"utf-16\", # to ensure trema's are well handled (e.g. Koen Daniëls)\n",
    "#                                          index = False)"
   ]
  },
  {
   "cell_type": "code",
   "execution_count": 52,
   "id": "d48c4a00",
   "metadata": {},
   "outputs": [],
   "source": [
    "## Save commissions_overview_df for later use\n",
    "# 1. Save as pkl\n",
    "with open(f'../data/commissions_overview_df.pkl', 'wb') as file:\n",
    "    pickle.dump(commissions_overview_df, file)\n",
    "\n",
    "# 2. Save as csv\n",
    "commissions_overview_df.to_csv(path_or_buf = f'../data/commissions_overview_df.csv',\n",
    "                               sep = \";\",\n",
    "                               encoding = \"utf-16\", # to ensure trema's are well handled (e.g. Koen Daniëls)\n",
    "                               index = False)"
   ]
  },
  {
   "cell_type": "code",
   "execution_count": null,
   "id": "ded18e8b",
   "metadata": {},
   "outputs": [],
   "source": [
    "# ## Save commissions_overview_df for later use\n",
    "# # 1. Save as pkl\n",
    "# with open(f'../data/commissions_overview_df_{today_str}.pkl', 'wb') as file:\n",
    "#     pickle.dump(commissions_overview_df, file)\n",
    "\n",
    "# # 2. Save as csv\n",
    "# commissions_overview_df.to_csv(path_or_buf = f'../data/commissions_overview_df_{today_str}.csv',\n",
    "#                                sep = \";\",\n",
    "#                                encoding = \"utf-16\", # to ensure trema's are well handled (e.g. Koen Daniëls)\n",
    "#                                index = False)"
   ]
  },
  {
   "cell_type": "markdown",
   "id": "7cd9203d",
   "metadata": {},
   "source": [
    "# Test chunks"
   ]
  },
  {
   "cell_type": "code",
   "execution_count": null,
   "id": "b30aed86",
   "metadata": {},
   "outputs": [],
   "source": []
  },
  {
   "cell_type": "code",
   "execution_count": null,
   "id": "8f61df70",
   "metadata": {},
   "outputs": [],
   "source": [
    "# meetings_all_commissions_df.loc[\"Vergadering 1764019\", \"AANWEZIG_vast\"][0]\n",
    "# type(meetings_all_commissions_df.loc[\"Vergadering 1764019\", \"AANWEZIG_vast\"][0])"
   ]
  },
  {
   "cell_type": "code",
   "execution_count": null,
   "id": "fbc7f146",
   "metadata": {},
   "outputs": [],
   "source": [
    "# meetings_all_commissions_df[\"AANWEZIG_vast\"].apply(\n",
    "#     lambda x: [item[\"Naam\"] for item in x] if isinstance(item, list) else None\n",
    "# )"
   ]
  },
  {
   "cell_type": "code",
   "execution_count": null,
   "id": "595eec14-3dfc-4c4a-8606-44534a585a4b",
   "metadata": {},
   "outputs": [],
   "source": []
  },
  {
   "cell_type": "code",
   "execution_count": null,
   "id": "eae1f2c2-a7ef-4582-97d6-acc6c4322765",
   "metadata": {},
   "outputs": [],
   "source": []
  },
  {
   "cell_type": "code",
   "execution_count": null,
   "id": "233720a4-9f7a-48fa-85a1-6e36716ef004",
   "metadata": {},
   "outputs": [],
   "source": [
    "# # Convert the index to a column (to be able to take it into account for the duplicate analysis) and identify non-duplicated items\n",
    "# meetings_all_commissions_df_all['Index'] = meetings_all_commissions_df_all.index\n",
    "# meetings_all_commissions_df_all_str = meetings_all_commissions_df_all.astype(str)\n",
    "# meetings_all_commissions_df = meetings_all_commissions_df_all_str[~meetings_all_commissions_df_all_str.duplicated(keep='first')]\n",
    "\n",
    "# # Remove the extra column used for comparison\n",
    "# meetings_all_commissions_df = meetings_all_commissions_df.drop(columns=['Index'])\n",
    "\n",
    "# # Inspect results\n",
    "# print(\"Amount of total meetings after update (excl. duplicates:\", \n",
    "#       meetings_all_commissions_df.shape[0])"
   ]
  },
  {
   "cell_type": "code",
   "execution_count": null,
   "id": "b6a6649e-9ac4-4288-9b93-3e1afc3d833c",
   "metadata": {},
   "outputs": [],
   "source": [
    "\n",
    "# # Convert the index to a column (to be able to take it into account for the duplicate analysis) and identify non-duplicated items\n",
    "# meetings_all_commissions_df_all['Index'] = meetings_all_commissions_df_all.index\n",
    "# meetings_all_commissions_df_all_str = meetings_all_commissions_df_all.astype(str)\n",
    "# meetings_all_commissions_df = meetings_all_commissions_df_all_str[~meetings_all_commissions_df_all_str.duplicated(keep='first')]\n",
    "\n",
    "# # Remove the extra column used for comparison\n",
    "# meetings_all_commissions_df = meetings_all_commissions_df.drop(columns=['Index'])\n",
    "\n",
    "# # Inspect results\n",
    "# print(\"Amount of total meetings after update (excl. duplicates:\", \n",
    "#       meetings_all_commissions_df.shape[0])\n"
   ]
  },
  {
   "cell_type": "code",
   "execution_count": null,
   "id": "52f4e0ed-c128-422a-9ca2-1b1d1048c830",
   "metadata": {},
   "outputs": [],
   "source": []
  },
  {
   "cell_type": "code",
   "execution_count": null,
   "id": "04f1c83b-9198-4d59-92c3-939b202225b4",
   "metadata": {},
   "outputs": [],
   "source": [
    "# meetings_all_commissions_df_all.index"
   ]
  },
  {
   "cell_type": "code",
   "execution_count": null,
   "id": "0ce2532f-8118-4338-9213-b582c4278338",
   "metadata": {},
   "outputs": [],
   "source": [
    "# unique = set(meetings_all_commissions_df_all.index)\n",
    "# len(unique)"
   ]
  },
  {
   "cell_type": "code",
   "execution_count": null,
   "id": "f33fd5b5-34eb-4713-a91b-0123fc597c7c",
   "metadata": {},
   "outputs": [],
   "source": [
    "# # Identify duplicates based on all columns (including the list column)\n",
    "# duplicates_mask = meetings_all_commissions_df_all.apply(lambda row: tuple(row) if isinstance(row, list) else row, axis=1).duplicated(keep=False)\n",
    "\n",
    "\n",
    "# # Display all items that are not unique\n",
    "# non_unique_items = meetings_all_commissions_df_all[duplicates_mask]\n",
    "# print(non_unique_items)"
   ]
  },
  {
   "cell_type": "code",
   "execution_count": null,
   "id": "a3711248-a06c-4bbc-891b-cff3b4256976",
   "metadata": {},
   "outputs": [],
   "source": []
  },
  {
   "cell_type": "code",
   "execution_count": null,
   "id": "66dbfb09-30ed-4e95-bace-846639afa5ad",
   "metadata": {},
   "outputs": [],
   "source": []
  },
  {
   "cell_type": "code",
   "execution_count": null,
   "id": "e6f01647-1314-4894-8ef5-eeaa5195ccfe",
   "metadata": {},
   "outputs": [],
   "source": [
    "# # Convert lists to strings and identify duplicate rows based on all columns\n",
    "# # Convert the index to a column and include it in the identification of duplicate rows\n",
    "# meetings_all_commissions_df_all['Index'] = meetings_all_commissions_df_all.index\n",
    "# df_str = meetings_all_commissions_df_all.astype(str)\n",
    "# duplicate_rows = df_str[df_str.duplicated(keep=False)]\n",
    "\n",
    "# # Display the duplicate rows\n",
    "# duplicate_rows"
   ]
  }
 ],
 "metadata": {
  "kernelspec": {
   "display_name": "Python 3 (ipykernel)",
   "language": "python",
   "name": "python3"
  },
  "language_info": {
   "codemirror_mode": {
    "name": "ipython",
    "version": 3
   },
   "file_extension": ".py",
   "mimetype": "text/x-python",
   "name": "python",
   "nbconvert_exporter": "python",
   "pygments_lexer": "ipython3",
   "version": "3.11.5"
  }
 },
 "nbformat": 4,
 "nbformat_minor": 5
}

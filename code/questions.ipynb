{
 "cells": [
  {
   "cell_type": "markdown",
   "id": "5e7ad100-5a73-48e6-b72a-d3969a119bf5",
   "metadata": {},
   "source": [
    "# Set up"
   ]
  },
  {
   "cell_type": "code",
   "execution_count": 1,
   "id": "9e852f1c-2c36-4252-9a6c-bf9e784c4ceb",
   "metadata": {},
   "outputs": [],
   "source": [
    "import numpy as np\n",
    "import pandas as pd\n",
    "\n",
    "import csv\n",
    "import pickle\n",
    "\n",
    "from collections import defaultdict\n",
    "\n",
    "import requests\n",
    "\n",
    "from datetime import datetime\n",
    "import locale # to allow date parsing for dates in Dutch\n",
    "\n",
    "from collections import Counter\n",
    "\n",
    "import matplotlib.pyplot as plt\n",
    "\n",
    "import copy"
   ]
  },
  {
   "cell_type": "markdown",
   "id": "9f549191-4eb8-4b9d-94d9-f221fce915e2",
   "metadata": {},
   "source": [
    "Endpoint function"
   ]
  },
  {
   "cell_type": "code",
   "execution_count": 2,
   "id": "3445968a-5a3e-4b1d-97de-d2989bac6568",
   "metadata": {},
   "outputs": [],
   "source": [
    "# Set base_url of api\n",
    "base_url = \"https://ws.vlpar.be/e/opendata\"\n",
    "\n",
    "def get_endpoint(endpoint: str):\n",
    "    \"\"\"\n",
    "    Return data available at inserted endpoint\n",
    "    \"\"\"\n",
    "    # Make the GET request\n",
    "    response = requests.get(f\"{base_url}{endpoint}\")\n",
    "    \n",
    "    # Initialize data with a default value\n",
    "    data = None\n",
    "\n",
    "    # Check if the request was successful (status code 200)\n",
    "    if response.status_code == 200:\n",
    "        data = response.json()  # Parse JSON response\n",
    "    else:\n",
    "        print(f\"Failed to fetch data. Status code: {response.status_code}\")\n",
    "\n",
    "    return data"
   ]
  },
  {
   "cell_type": "markdown",
   "id": "2a4167d3-80c1-4c38-88c6-ff0ca6a9431f",
   "metadata": {},
   "source": [
    "Interesting fields for questions:\n",
    "* /schv/lijst: Schriftelijke vragen op basis van id's van de vragen\n",
    "* /vi/lijst: Lijst van vragen en interpellaties op basis van id's  van de initiatieven"
   ]
  },
  {
   "cell_type": "markdown",
   "id": "746168cf-ba68-4350-a12e-9e1863853e27",
   "metadata": {},
   "source": [
    "# Obtain written questions"
   ]
  },
  {
   "cell_type": "code",
   "execution_count": 3,
   "id": "77267082-4f35-4382-a7d4-d4d139e95c64",
   "metadata": {},
   "outputs": [
    {
     "name": "stdout",
     "output_type": "stream",
     "text": [
      "Failed to fetch data. Status code: 400\n"
     ]
    },
    {
     "ename": "TypeError",
     "evalue": "'NoneType' object is not subscriptable",
     "output_type": "error",
     "traceback": [
      "Traceback \u001b[0;36m(most recent call last)\u001b[0m:\n",
      "\u001b[0;36m  Cell \u001b[0;32mIn[3], line 8\u001b[0;36m\n\u001b[0;31m    pd.json_normalize(schv_json['items']),\u001b[0;36m\n",
      "\u001b[0;31mTypeError\u001b[0m\u001b[0;31m:\u001b[0m 'NoneType' object is not subscriptable\n"
     ]
    }
   ],
   "source": [
    "schv_json = get_endpoint(\"/schv/lijst\")\n",
    "\n",
    "# Inspect data\n",
    "schv_json\n",
    "\n",
    "# Parse json into dataframe. Visual inspection showed data is stored in 'items' key\n",
    "schv_df = pd.DataFrame.from_dict(\n",
    "    pd.json_normalize(schv_json['items']), \n",
    "    orient='columns')"
   ]
  },
  {
   "cell_type": "code",
   "execution_count": null,
   "id": "a6337421-4f19-495e-b38f-c0cef6428c70",
   "metadata": {},
   "outputs": [],
   "source": []
  }
 ],
 "metadata": {
  "kernelspec": {
   "display_name": "Python 3 (Spyder)",
   "language": "python3",
   "name": "python3"
  },
  "language_info": {
   "codemirror_mode": {
    "name": "ipython",
    "version": 3
   },
   "file_extension": ".py",
   "mimetype": "text/x-python",
   "name": "python",
   "nbconvert_exporter": "python",
   "pygments_lexer": "ipython3",
   "version": "3.11.5"
  }
 },
 "nbformat": 4,
 "nbformat_minor": 5
}

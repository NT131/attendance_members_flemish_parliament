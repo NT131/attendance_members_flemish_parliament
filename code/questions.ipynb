{
 "cells": [
  {
   "cell_type": "markdown",
   "id": "5e7ad100-5a73-48e6-b72a-d3969a119bf5",
   "metadata": {},
   "source": [
    "# Set up"
   ]
  },
  {
   "cell_type": "code",
   "execution_count": 1,
   "id": "9e852f1c-2c36-4252-9a6c-bf9e784c4ceb",
   "metadata": {},
   "outputs": [],
   "source": [
    "import numpy as np\n",
    "import pandas as pd\n",
    "\n",
    "import re\n",
    "\n",
    "import csv\n",
    "import pickle\n",
    "\n",
    "from collections import defaultdict\n",
    "\n",
    "import requests\n",
    "\n",
    "from datetime import datetime\n",
    "import locale # to allow date parsing for dates in Dutch\n",
    "\n",
    "from collections import Counter\n",
    "\n",
    "import matplotlib.pyplot as plt\n",
    "\n",
    "import copy"
   ]
  },
  {
   "cell_type": "code",
   "execution_count": 7,
   "id": "2a01b32b-44a2-4339-8fcf-853a10dfa803",
   "metadata": {},
   "outputs": [],
   "source": [
    "# show all outputs of cell, not merely of last line (i.e. default of Jupyter Notebook)\n",
    "from IPython.core.interactiveshell import InteractiveShell\n",
    "InteractiveShell.ast_node_interactivity = \"all\""
   ]
  },
  {
   "cell_type": "code",
   "execution_count": 56,
   "id": "8d318827-dd63-496a-b124-a6a91ae59b65",
   "metadata": {},
   "outputs": [],
   "source": [
    "# Read in list of members and their parties to later on do mapping\n",
    "with open('../data/parlementsleden.pkl', 'rb') as file:\n",
    "    parlementsleden_all_dict = pickle.load(file)"
   ]
  },
  {
   "cell_type": "markdown",
   "id": "2a4167d3-80c1-4c38-88c6-ff0ca6a9431f",
   "metadata": {},
   "source": [
    "Interesting fields for questions:\n",
    "* /schv/lijst: Schriftelijke vragen op basis van id's van de vragen\n",
    "* /vi/lijst: Lijst van vragen en interpellaties op basis van id's  van de initiatieven"
   ]
  },
  {
   "cell_type": "markdown",
   "id": "72fecf0b-cc07-4953-9779-4c22ccf2e862",
   "metadata": {},
   "source": [
    "# Obtain relevant id's"
   ]
  },
  {
   "cell_type": "markdown",
   "id": "02145203-ca59-4d02-8726-01a3d6685df1",
   "metadata": {},
   "source": [
    "First we need to obtain the id's of all relevant questions. There is no straightforward way to obtain this. Contact with the administration of the Flemish Parliament learns that the best way to do this is to launch a search query for the questions, and then use the 'opendata' tags to obtain the relevant id's of all results. \n",
    "\n",
    "Such a query can f.e. be the following: 'https://ws.vlpar.be/api/search/query/+inmeta:zittingsjaar=2023-2024&requiredfields=paginatype:Parlementair%20document.aggregaat:Vraag%20of%20interpellatie.initiatief:Schriftelijke%20vraag?collection=vp_collection&sort=date&max=100&page=1'. This lists all written questions ('Schriftelijke vragen') within the working year 2023-2024. However, it seems not possible to obtain all results at one go. The amount of search results that can be displayed on the first page is limited (f.e. not possible to list more than 100 results on the same page). \n",
    "\n",
    "Nevertheless, a count is provided. so it is possible to iterate through all pages with each 100 results to obtain all search results. "
   ]
  },
  {
   "cell_type": "markdown",
   "id": "12a753d3-984a-4d84-bf40-121d8ded8010",
   "metadata": {},
   "source": [
    "First, we define various functions to obtain these search results and id's. "
   ]
  },
  {
   "cell_type": "markdown",
   "id": "b02a43a6-6586-40c0-bb55-2fef3016782d",
   "metadata": {},
   "source": [
    "It seems not possible to obtain all data for an entire parliamentary term ('zittingsperiode'). however, it is possible to iterate through various parliamentary years ('zittingsjaren'."
   ]
  },
  {
   "cell_type": "code",
   "execution_count": 2,
   "id": "715fd727-5f36-4ae3-81f6-19800afe13c0",
   "metadata": {},
   "outputs": [],
   "source": [
    "def get_request(url_query:str):\n",
    "    \"\"\"\n",
    "    Parse data from search query using url\n",
    "    \"\"\"\n",
    "    # Make the GET request, specifing you want to use json as header, instead of xml\n",
    "    response = requests.get(url_query, headers = {\"Accept\": \"application/json\"})\n",
    "\n",
    "    # Check if the request was successful (status code 200)\n",
    "    if response.status_code == 200:\n",
    "        data = response.json()  # Parse JSON response\n",
    "    else:\n",
    "        print(f\"Failed to fetch data. Status code: {response.status_code}\")\n",
    "\n",
    "    return data"
   ]
  },
  {
   "cell_type": "code",
   "execution_count": 35,
   "id": "7eb976d6-30d7-4291-9629-368b731b2511",
   "metadata": {},
   "outputs": [],
   "source": [
    "def get_written_question_details(url_query: str):\n",
    "    \"\"\"\n",
    "    Return id's of all questions by iterating over all pages\n",
    "    \"\"\"\n",
    "    url_page = f\"{url_query}1\" # Initialize page at 1\n",
    "    # obtain output of first page of search results\n",
    "    first_page = get_request(url_page)\n",
    "\n",
    "    # Obtain amount of total results for query\n",
    "    total = int(first_page['count'])\n",
    "    print(\"Total amount of questions: \", total)\n",
    "\n",
    "    # obtain amount of pages are needed to display all results \n",
    "    # (i.e. amount of full pages of 100 results + page with remainder)\n",
    "    pages = total//100 + 1\n",
    "\n",
    "    \n",
    "    questions_details_list = []\n",
    "    \n",
    "    # Iterate over all pages, starting from page 1\n",
    "    for page in range(1,pages+1):\n",
    "        url_page = f\"{url_query}{page}\" # initialise URL based on relevant page\n",
    "        data = get_request(url_page)\n",
    "        \n",
    "        # iterate over each question in the results, extract relevant details and store in dict\n",
    "        for question in data[\"result\"]:\n",
    "            question_details_dict = {\n",
    "                'id': re.search(r'\\d+$', question['url']).group(),\n",
    "                'datum': next((tag['value'] for tag in question['metatags']['metatag'] if tag['name'] == 'datum'), None),\n",
    "                'minister': next((tag['value'] for tag in question['metatags']['metatag'] if tag['name'] == 'minister'), None),\n",
    "                'onderwerp': next((tag['value'] for tag in question['metatags']['metatag'] if tag['name'] == 'onderwerp'), None),\n",
    "                'documenttype': next((tag['value'] for tag in question['metatags']['metatag'] if tag['name'] == 'documenttype'), None),\n",
    "                'thema': next((tag['value'] for tag in question['metatags']['metatag'] if tag['name'] == 'thema'), None),\n",
    "                'vraagsteller': next((tag['value'] for tag in question['metatags']['metatag'] if tag['name'] == 'vraagsteller'), None),\n",
    "                # 'url': next((tag['value'] for tag in question if tag['name'] == 'url'), None),\n",
    "                'url': question[\"url\"],\n",
    "            }\n",
    "            # Append the dictionary to the list\n",
    "            questions_details_list.append(question_details_dict)\n",
    "    \n",
    "    # Create a DataFrame from the list of dictionaries\n",
    "    questions_details_df = pd.DataFrame(questions_details_list) \n",
    "    return questions_details_df"
   ]
  },
  {
   "cell_type": "markdown",
   "id": "ea3d4558-6ca3-4762-9350-6722128e28b3",
   "metadata": {},
   "source": [
    "Then we apply the functions to actually obtain the details for each parliamentary year."
   ]
  },
  {
   "cell_type": "code",
   "execution_count": 37,
   "id": "c5b8b6f0-482f-49df-9c30-6edcd486e478",
   "metadata": {},
   "outputs": [
    {
     "name": "stdout",
     "output_type": "stream",
     "text": [
      "2019-2020\n",
      "Total amount of questions:  6403\n",
      "2020-2021\n",
      "Total amount of questions:  7869\n",
      "2021-2022\n",
      "Total amount of questions:  7137\n",
      "2022-2023\n",
      "Total amount of questions:  7345\n",
      "2023-2024\n",
      "Total amount of questions:  1054\n"
     ]
    }
   ],
   "source": [
    "# List of 'zittingsjaar' values\n",
    "zittingsjaar_values = ['2019-2020', '2020-2021', '2021-2022', '2022-2023', '2023-2024']\n",
    "\n",
    "# Base URL template\n",
    "base_url = \"https://ws.vlpar.be/api/search/query/+inmeta:zittingsjaar={}&requiredfields=paginatype:Parlementair%20document.aggregaat:Vraag%20of%20interpellatie.initiatief:Schriftelijke%20vraag?collection=vp_collection&sort=date&max=100&page=\"\n",
    "\n",
    "details_questions_term_list = [] # initialize list for dfs\n",
    "\n",
    "# Iterate over 'zittingsjaar' values\n",
    "for zittingsjaar in zittingsjaar_values:\n",
    "    print(\"Zittingsjaar: \", zittingsjaar)\n",
    "    # Construct the dynamic URL\n",
    "    dynamic_url = base_url.format(zittingsjaar)\n",
    "\n",
    "    # Obtain dataframe with details for each parliamentary year\n",
    "    details_questions_df = get_written_question_details(dynamic_url)\n",
    "    # append to list\n",
    "    details_questions_term_list.append(details_questions_df)\n",
    "\n",
    "# concatenate to single df\n",
    "details_questions_term_df = pd.concat(details_questions_term_list, ignore_index=True)"
   ]
  },
  {
   "cell_type": "code",
   "execution_count": 59,
   "id": "30ca0cf7-53bb-4f3a-b496-b7249aaf4f1a",
   "metadata": {},
   "outputs": [
    {
     "data": {
      "text/plain": [
       "(29808, 9)"
      ]
     },
     "execution_count": 59,
     "metadata": {},
     "output_type": "execute_result"
    },
    {
     "data": {
      "text/html": [
       "<div>\n",
       "<style scoped>\n",
       "    .dataframe tbody tr th:only-of-type {\n",
       "        vertical-align: middle;\n",
       "    }\n",
       "\n",
       "    .dataframe tbody tr th {\n",
       "        vertical-align: top;\n",
       "    }\n",
       "\n",
       "    .dataframe thead th {\n",
       "        text-align: right;\n",
       "    }\n",
       "</style>\n",
       "<table border=\"1\" class=\"dataframe\">\n",
       "  <thead>\n",
       "    <tr style=\"text-align: right;\">\n",
       "      <th></th>\n",
       "      <th>id</th>\n",
       "      <th>datum</th>\n",
       "      <th>minister</th>\n",
       "      <th>onderwerp</th>\n",
       "      <th>documenttype</th>\n",
       "      <th>thema</th>\n",
       "      <th>vraagsteller</th>\n",
       "      <th>url</th>\n",
       "      <th>vraagsteller_partij</th>\n",
       "    </tr>\n",
       "  </thead>\n",
       "  <tbody>\n",
       "    <tr>\n",
       "      <th>0</th>\n",
       "      <td>1363595</td>\n",
       "      <td>2021-02-05</td>\n",
       "      <td>Wouter Beke</td>\n",
       "      <td>Baarmoederhalskanker  -  Regionale verschillen...</td>\n",
       "      <td>Vraag en antwoord</td>\n",
       "      <td>Gezondheid</td>\n",
       "      <td>Freya Saeys</td>\n",
       "      <td>https://www.vlaamsparlement.be/parlementaire-d...</td>\n",
       "      <td>Open Vld</td>\n",
       "    </tr>\n",
       "    <tr>\n",
       "      <th>1</th>\n",
       "      <td>1424087</td>\n",
       "      <td>2020-12-08</td>\n",
       "      <td>Hilde Crevits</td>\n",
       "      <td>Bedrijfssteun  -  Evaluatie (3)</td>\n",
       "      <td>Vraag en antwoord</td>\n",
       "      <td>Economie</td>\n",
       "      <td>Maurits Vande Reyde</td>\n",
       "      <td>https://www.vlaamsparlement.be/parlementaire-d...</td>\n",
       "      <td>Open Vld</td>\n",
       "    </tr>\n",
       "    <tr>\n",
       "      <th>2</th>\n",
       "      <td>1424234</td>\n",
       "      <td>2020-11-26</td>\n",
       "      <td>Ben Weyts</td>\n",
       "      <td>Boekencheck 2020  -  Resultaten</td>\n",
       "      <td>Vraag en antwoord</td>\n",
       "      <td>Onderwijs en Vorming</td>\n",
       "      <td>Annabel Tavernier</td>\n",
       "      <td>https://www.vlaamsparlement.be/parlementaire-d...</td>\n",
       "      <td>N-VA</td>\n",
       "    </tr>\n",
       "    <tr>\n",
       "      <th>3</th>\n",
       "      <td>1424254</td>\n",
       "      <td>2020-11-24</td>\n",
       "      <td>Bart Somers</td>\n",
       "      <td>Gemeente- en OCMW-raadsleden  -  Inzagerecht v...</td>\n",
       "      <td>Vraag en antwoord</td>\n",
       "      <td>Lokale Overheden</td>\n",
       "      <td>Brecht Warnez</td>\n",
       "      <td>https://www.vlaamsparlement.be/parlementaire-d...</td>\n",
       "      <td>cd&amp;v</td>\n",
       "    </tr>\n",
       "    <tr>\n",
       "      <th>4</th>\n",
       "      <td>1423090</td>\n",
       "      <td>2020-11-23</td>\n",
       "      <td>Ben Weyts</td>\n",
       "      <td>Lerarenopleiding  -  Instaptoets</td>\n",
       "      <td>Vraag en antwoord</td>\n",
       "      <td>Onderwijs en Vorming</td>\n",
       "      <td>Loes Vandromme</td>\n",
       "      <td>https://www.vlaamsparlement.be/parlementaire-d...</td>\n",
       "      <td>cd&amp;v</td>\n",
       "    </tr>\n",
       "  </tbody>\n",
       "</table>\n",
       "</div>"
      ],
      "text/plain": [
       "        id  ... vraagsteller_partij\n",
       "0  1363595  ...            Open Vld\n",
       "1  1424087  ...            Open Vld\n",
       "2  1424234  ...                N-VA\n",
       "3  1424254  ...                cd&v\n",
       "4  1423090  ...                cd&v\n",
       "\n",
       "[5 rows x 9 columns]"
      ]
     },
     "execution_count": 59,
     "metadata": {},
     "output_type": "execute_result"
    },
    {
     "data": {
      "text/html": [
       "<div>\n",
       "<style scoped>\n",
       "    .dataframe tbody tr th:only-of-type {\n",
       "        vertical-align: middle;\n",
       "    }\n",
       "\n",
       "    .dataframe tbody tr th {\n",
       "        vertical-align: top;\n",
       "    }\n",
       "\n",
       "    .dataframe thead th {\n",
       "        text-align: right;\n",
       "    }\n",
       "</style>\n",
       "<table border=\"1\" class=\"dataframe\">\n",
       "  <thead>\n",
       "    <tr style=\"text-align: right;\">\n",
       "      <th></th>\n",
       "      <th>id</th>\n",
       "      <th>datum</th>\n",
       "      <th>minister</th>\n",
       "      <th>onderwerp</th>\n",
       "      <th>documenttype</th>\n",
       "      <th>thema</th>\n",
       "      <th>vraagsteller</th>\n",
       "      <th>url</th>\n",
       "      <th>vraagsteller_partij</th>\n",
       "    </tr>\n",
       "  </thead>\n",
       "  <tbody>\n",
       "    <tr>\n",
       "      <th>29803</th>\n",
       "      <td>1765819</td>\n",
       "      <td>2023-10-31</td>\n",
       "      <td>Lydia Peeters</td>\n",
       "      <td>Grensoverschrijdende mobiliteitsprojecten  -  ...</td>\n",
       "      <td>Vraag en antwoord</td>\n",
       "      <td>Openbare werken</td>\n",
       "      <td>Marino Keulen</td>\n",
       "      <td>https://www.vlaamsparlement.be/parlementaire-d...</td>\n",
       "      <td>Open Vld</td>\n",
       "    </tr>\n",
       "    <tr>\n",
       "      <th>29804</th>\n",
       "      <td>1765821</td>\n",
       "      <td>2023-10-31</td>\n",
       "      <td>Lydia Peeters</td>\n",
       "      <td>IJzeren Rijn  -  Stand van zaken</td>\n",
       "      <td>Vraag en antwoord</td>\n",
       "      <td>Mobiliteit en Verkeer</td>\n",
       "      <td>Marino Keulen</td>\n",
       "      <td>https://www.vlaamsparlement.be/parlementaire-d...</td>\n",
       "      <td>Open Vld</td>\n",
       "    </tr>\n",
       "    <tr>\n",
       "      <th>29805</th>\n",
       "      <td>1767239</td>\n",
       "      <td>2023-10-27</td>\n",
       "      <td>Zuhal Demir</td>\n",
       "      <td>Lage-emissiezones (LEZ's)  -  Wijzigingsbesluit</td>\n",
       "      <td>Vraag en antwoord</td>\n",
       "      <td>Mobiliteit en Verkeer</td>\n",
       "      <td>Stijn Bex</td>\n",
       "      <td>https://www.vlaamsparlement.be/parlementaire-d...</td>\n",
       "      <td>Groen</td>\n",
       "    </tr>\n",
       "    <tr>\n",
       "      <th>29806</th>\n",
       "      <td>1765825</td>\n",
       "      <td>2023-10-26</td>\n",
       "      <td>Lydia Peeters</td>\n",
       "      <td>Keuring oldtimers  -  Knelpunten</td>\n",
       "      <td>Vraag en antwoord</td>\n",
       "      <td>Mobiliteit en Verkeer</td>\n",
       "      <td>Marino Keulen</td>\n",
       "      <td>https://www.vlaamsparlement.be/parlementaire-d...</td>\n",
       "      <td>Open Vld</td>\n",
       "    </tr>\n",
       "    <tr>\n",
       "      <th>29807</th>\n",
       "      <td>1765823</td>\n",
       "      <td>2023-10-26</td>\n",
       "      <td>Lydia Peeters</td>\n",
       "      <td>Evolutie verkeersslachtoffers  -  Beleid</td>\n",
       "      <td>Vraag en antwoord</td>\n",
       "      <td>Mobiliteit en Verkeer</td>\n",
       "      <td>Marino Keulen</td>\n",
       "      <td>https://www.vlaamsparlement.be/parlementaire-d...</td>\n",
       "      <td>Open Vld</td>\n",
       "    </tr>\n",
       "  </tbody>\n",
       "</table>\n",
       "</div>"
      ],
      "text/plain": [
       "            id  ... vraagsteller_partij\n",
       "29803  1765819  ...            Open Vld\n",
       "29804  1765821  ...            Open Vld\n",
       "29805  1767239  ...               Groen\n",
       "29806  1765825  ...            Open Vld\n",
       "29807  1765823  ...            Open Vld\n",
       "\n",
       "[5 rows x 9 columns]"
      ]
     },
     "execution_count": 59,
     "metadata": {},
     "output_type": "execute_result"
    }
   ],
   "source": [
    "# Inspect results\n",
    "details_questions_term_df.shape\n",
    "details_questions_term_df.head()\n",
    "details_questions_term_df.tail()"
   ]
  },
  {
   "cell_type": "markdown",
   "id": "201bb6a9-30f2-467a-a03b-e24aa055fe1b",
   "metadata": {},
   "source": [
    "Then we modify the dataframe to switch the first and last names of the relevant (i.e. members of parliament and ministers). This not only improves the readability but also ensures they are more easily matched with othere data structures were names are fromatted as [first name, last name]."
   ]
  },
  {
   "cell_type": "code",
   "execution_count": 49,
   "id": "bc658899-4437-4202-8e18-02b369f6f187",
   "metadata": {},
   "outputs": [],
   "source": [
    "# Function to switch order and remove comma\n",
    "def switch_order_and_remove_comma(name):\n",
    "    first_name, last_name = map(str.strip, name.split(','))\n",
    "    return f'{last_name} {first_name}'"
   ]
  },
  {
   "cell_type": "code",
   "execution_count": 50,
   "id": "bc0c0e9e-ca94-447d-b8a7-c17d0d4bfa34",
   "metadata": {},
   "outputs": [],
   "source": [
    "# Apply the function to the 'minister' and 'vraagsteller' column\n",
    "details_questions_term_df['minister'] = details_questions_term_df['minister'].apply(switch_order_and_remove_comma)\n",
    "details_questions_term_df['vraagsteller'] = details_questions_term_df['vraagsteller'].apply(switch_order_and_remove_comma)"
   ]
  },
  {
   "cell_type": "code",
   "execution_count": 57,
   "id": "35992517-e32f-4dbd-b8f3-8379a890a1ab",
   "metadata": {},
   "outputs": [],
   "source": [
    "# Function to map member to party\n",
    "def map_member_to_party(member):\n",
    "    for key, value in parlementsleden_all_dict.items():\n",
    "        if value[0] == member:\n",
    "            return value[1]\n",
    "    return None  # Handle the case where member is not found"
   ]
  },
  {
   "cell_type": "code",
   "execution_count": 58,
   "id": "7ad7f99f-1b9f-43b7-9382-0482929a336e",
   "metadata": {},
   "outputs": [],
   "source": [
    "# Aggregate questions per party\n",
    "details_questions_term_df['vraagsteller_partij'] = details_questions_term_df['vraagsteller'].map(map_member_to_party)"
   ]
  },
  {
   "cell_type": "code",
   "execution_count": 60,
   "id": "d8bdaef4-16b1-4864-a72e-05f167e8ffbc",
   "metadata": {},
   "outputs": [],
   "source": [
    "## Save details_questions_term_df for later use\n",
    "# 1. Save as pkl\n",
    "with open(f'../data/details_questions_term_df.pkl', 'wb') as file:\n",
    "    pickle.dump(details_questions_term_df, file)\n",
    "\n",
    "# 2. Save as csv\n",
    "details_questions_term_df.to_csv(path_or_buf = f'../data/details_questions_term_df.csv',\n",
    "                               sep = \";\",\n",
    "                               encoding = \"utf-16\", # to ensure trema's are well handled (e.g. Koen Daniëls)\n",
    "                               index = False)\n"
   ]
  },
  {
   "cell_type": "markdown",
   "id": "d65bc6a9-1253-454a-92cc-a436860491f1",
   "metadata": {},
   "source": [
    "# Dump"
   ]
  },
  {
   "cell_type": "code",
   "execution_count": null,
   "id": "6e87e95f-4432-46d0-90e9-95ab97419c9c",
   "metadata": {},
   "outputs": [],
   "source": [
    "# url_questions_2019_2024 = \"period=current_parliamentary_term&current_parliamentary_term_value=2019-2024\"\n",
    "# \"https://ws.vlpar.be/api/search/query/+inmeta:zittingsjaar=2023-2024&requiredfields=paginatype:Parlementair%20document.aggregaat:Vraag%20of%20interpellatie.initiatief:Schriftelijke%20vraag?collection=vp_collection&sort=date&max=100&page=\"\n"
   ]
  },
  {
   "cell_type": "code",
   "execution_count": 39,
   "id": "e42eed05-0093-447a-985c-4d31c44320c4",
   "metadata": {},
   "outputs": [],
   "source": [
    "# # Inspect data\n",
    "# len(ids_questions)\n",
    "# ids_questions[:10]"
   ]
  },
  {
   "cell_type": "code",
   "execution_count": null,
   "id": "77ebebb4-ad19-489c-bf28-ac2a49fdade7",
   "metadata": {},
   "outputs": [],
   "source": []
  },
  {
   "cell_type": "code",
   "execution_count": 40,
   "id": "e15e048c-d51e-42b8-8bd9-9bfb6c00382c",
   "metadata": {},
   "outputs": [],
   "source": [
    "# url = f\"{url_questions}1\" # Initialize page at 1\n",
    "# # obtain output of first page of search results\n",
    "# first_page = get_request(url)\n",
    "\n",
    "# # Obtain amount of total results for query\n",
    "# total = int(first_page['count'])\n",
    "# print(\"Total amount of questions: \", total)\n",
    "\n",
    "# # obtain amount of pages are needed to display all results \n",
    "# # (i.e. amount of full pages of 100 results + page with remainder)\n",
    "# pages = total//100 + 1\n",
    "\n",
    "\n",
    "# ids = []\n",
    "# # Iterate over all pages, starting from page 1\n",
    "# for page in range(1,pages+1):\n",
    "#     url = f\"{url_questions}{page}\" # initialise URL based on relevant page\n",
    "#     data = get_request(url)\n",
    "    \n",
    "#     # iterate over each question in the results\n",
    "#     for question in data[\"result\"]:\n",
    "\n",
    "\n",
    "\n",
    "        \n",
    "#         date = data[\"result\"][]\n",
    "#         print(data[\"result\"][0])\n",
    "#         # # search for a sequence of digits (\\d+) at the end of the URL ($)\n",
    "#         # id_match = re.search(r'\\d+$', question['url'])\n",
    "\n",
    "#         # # If there is a match, append it\n",
    "#         # if id_match:\n",
    "#         #     ids.append(id_match.group())  "
   ]
  },
  {
   "cell_type": "code",
   "execution_count": 41,
   "id": "b53da432-98b3-4bfe-97d9-6fae21c4ece4",
   "metadata": {},
   "outputs": [],
   "source": [
    "# url = f\"{url_questions}1\" # Initialize page at 1\n",
    "# # obtain output of first page of search results\n",
    "# first_page = get_request(url)\n",
    "\n",
    "# # Obtain amount of total results for query\n",
    "# total = int(first_page['count'])\n",
    "# print(\"Total amount of questions: \", total)\n",
    "\n",
    "# # obtain amount of pages are needed to display all results \n",
    "# # (i.e. amount of full pages of 100 results + page with remainder)\n",
    "# pages = total//100 + 1\n",
    "\n",
    "\n",
    "# questions_details_list = []\n",
    "\n",
    "# # Iterate over all pages, starting from page 1\n",
    "# for page in range(1,pages+1):\n",
    "#     url = f\"{url_questions}{page}\" # initialise URL based on relevant page\n",
    "#     data = get_request(url)\n",
    "    \n",
    "#     # iterate over each question in the results, extract relevant details and store in dict\n",
    "#     for question in data[\"result\"]:\n",
    "#         question_details_dict = {\n",
    "#             'id': re.search(r'\\d+$', question['url']).group(),\n",
    "#             'datum': next((tag['value'] for tag in question['metatags']['metatag'] if tag['name'] == 'datum'), None),\n",
    "#             'minister': next((tag['value'] for tag in question['metatags']['metatag'] if tag['name'] == 'minister'), None),\n",
    "#             'onderwerp': next((tag['value'] for tag in question['metatags']['metatag'] if tag['name'] == 'onderwerp'), None),\n",
    "#             'documenttype': next((tag['value'] for tag in question['metatags']['metatag'] if tag['name'] == 'documenttype'), None),\n",
    "#             'thema': next((tag['value'] for tag in question['metatags']['metatag'] if tag['name'] == 'thema'), None),\n",
    "#             'vraagsteller': next((tag['value'] for tag in question['metatags']['metatag'] if tag['name'] == 'vraagsteller'), None),\n",
    "#             # 'url': next((tag['value'] for tag in question if tag['name'] == 'url'), None),\n",
    "#             'url': question[\"url\"],\n",
    "#         }\n",
    "#         # Append the dictionary to the list\n",
    "#         questions_details_list.append(question_details_dict)\n",
    "\n",
    "# # Create a DataFrame from the list of dictionaries\n",
    "# questions_details_df = pd.DataFrame(questions_details_list)\n"
   ]
  },
  {
   "cell_type": "code",
   "execution_count": 42,
   "id": "34e41fcc-98a0-4fe7-adb2-2c4c76798561",
   "metadata": {},
   "outputs": [],
   "source": [
    "# questions_details_df.head()"
   ]
  },
  {
   "cell_type": "code",
   "execution_count": null,
   "id": "21fd047d-104a-4005-ba97-7ac01bb63674",
   "metadata": {},
   "outputs": [],
   "source": []
  },
  {
   "cell_type": "code",
   "execution_count": null,
   "id": "b9439d43-3580-44d2-bc98-b619108488a8",
   "metadata": {},
   "outputs": [],
   "source": []
  },
  {
   "cell_type": "code",
   "execution_count": null,
   "id": "771842ce-d30e-4174-9b1a-364bac6ba83a",
   "metadata": {},
   "outputs": [],
   "source": [
    "# page = 1\n",
    "# url = f\"https://ws.vlpar.be/api/search/query/+inmeta:zittingsjaar=2023-2024&requiredfields=paginatype:Parlementair%20document.aggregaat:Vraag%20of%20interpellatie.initiatief:Schriftelijke%20vraag?collection=vp_collection&sort=date&max=100&page={page}\"\n",
    "# results = requests.get(url)"
   ]
  },
  {
   "cell_type": "code",
   "execution_count": null,
   "id": "c52168c3-1afd-4720-9bdd-d661298c65c7",
   "metadata": {},
   "outputs": [],
   "source": [
    "# url\n",
    "# results\n"
   ]
  },
  {
   "cell_type": "code",
   "execution_count": null,
   "id": "d520c900-e0e2-44b8-ad66-1db1c18464e8",
   "metadata": {},
   "outputs": [],
   "source": []
  },
  {
   "cell_type": "code",
   "execution_count": null,
   "id": "3445968a-5a3e-4b1d-97de-d2989bac6568",
   "metadata": {},
   "outputs": [],
   "source": [
    "# # Set base_url of api\n",
    "# base_url = \"https://ws.vlpar.be/e/opendata\"\n",
    "\n",
    "# def get_endpoint(endpoint: str):\n",
    "#     \"\"\"\n",
    "#     Return data available at inserted endpoint\n",
    "#     \"\"\"\n",
    "#     # Make the GET request\n",
    "#     response = requests.get(f\"{base_url}{endpoint}\")\n",
    "    \n",
    "#     # Initialize data with a default value\n",
    "#     data = None\n",
    "\n",
    "#     # Check if the request was successful (status code 200)\n",
    "#     if response.status_code == 200:\n",
    "#         data = response.json()  # Parse JSON response\n",
    "#     else:\n",
    "#         print(f\"Failed to fetch data. Status code: {response.status_code}\")\n",
    "\n",
    "#     return data"
   ]
  },
  {
   "cell_type": "code",
   "execution_count": null,
   "id": "dc2e7b78-daec-4f9b-82e3-8e049451ba5d",
   "metadata": {},
   "outputs": [],
   "source": []
  },
  {
   "cell_type": "code",
   "execution_count": null,
   "id": "3bd138cd-119c-4ac2-a127-bffb5ba31711",
   "metadata": {},
   "outputs": [],
   "source": []
  },
  {
   "cell_type": "code",
   "execution_count": null,
   "id": "5239cf9a-8953-4568-8c61-ff25f34b2f64",
   "metadata": {},
   "outputs": [],
   "source": [
    "# # Inspect data\n",
    "\n",
    "# # ids_questions\n",
    "# len(ids_questions)"
   ]
  },
  {
   "cell_type": "code",
   "execution_count": null,
   "id": "06be5005-2753-4261-9cb4-a1ecc3f2c9fb",
   "metadata": {},
   "outputs": [],
   "source": [
    "# ids_questions[:20]"
   ]
  },
  {
   "cell_type": "code",
   "execution_count": null,
   "id": "f0291a45-0f67-40b4-ad7d-361f190dff4e",
   "metadata": {},
   "outputs": [],
   "source": [
    "# ids_questions[-100:-5]"
   ]
  },
  {
   "cell_type": "code",
   "execution_count": null,
   "id": "8fd7b9a6-84d4-47a5-abca-a5356a195df5",
   "metadata": {},
   "outputs": [],
   "source": []
  },
  {
   "cell_type": "code",
   "execution_count": null,
   "id": "a2cd1f5e-8d90-40f4-8e39-1a00860a0a26",
   "metadata": {},
   "outputs": [],
   "source": [
    "# ids_questions[-1]"
   ]
  },
  {
   "cell_type": "code",
   "execution_count": null,
   "id": "81dec511-d259-4b0b-8a22-51cd8504f5e9",
   "metadata": {},
   "outputs": [],
   "source": []
  },
  {
   "cell_type": "code",
   "execution_count": null,
   "id": "dcf235a6-4f0c-4081-857b-18fea144e586",
   "metadata": {},
   "outputs": [],
   "source": [
    "# temp[0][0]"
   ]
  },
  {
   "cell_type": "code",
   "execution_count": null,
   "id": "db92115f-9653-4dab-afb9-8672457d8e80",
   "metadata": {},
   "outputs": [],
   "source": [
    "# temp = get_written_question_ids(url, headers)\n",
    "# temp[0]\n",
    "# len(temp)"
   ]
  },
  {
   "cell_type": "code",
   "execution_count": null,
   "id": "423f1855-6965-4ada-a00c-1b9c9ce824ae",
   "metadata": {},
   "outputs": [],
   "source": [
    "# len(temp)"
   ]
  },
  {
   "cell_type": "code",
   "execution_count": null,
   "id": "e3be4b4b-7e84-43a1-8629-a48771e7dd27",
   "metadata": {},
   "outputs": [],
   "source": [
    "# len(temp[0])\n",
    "# # temp[0]"
   ]
  },
  {
   "cell_type": "code",
   "execution_count": null,
   "id": "b4a19aef-261f-4db4-943d-633893073664",
   "metadata": {},
   "outputs": [],
   "source": [
    "# # temp[0][\"id\"]\n",
    "# temp[0][0]\n",
    "# # temp[0][0].keys()\n",
    "# # temp[0][0][\"metatags\"]\n",
    "# # # temp[0][0][\"metatags\"].keys()\n",
    "# # temp[0][0][\"metatags\"][\"metatag\"]\n",
    "# # temp[0][0][\"metatags\"][\"metatag\"]"
   ]
  },
  {
   "cell_type": "code",
   "execution_count": null,
   "id": "c53cb291-9cb9-4e2c-bb7d-6e637e8bc2ab",
   "metadata": {},
   "outputs": [],
   "source": [
    "\n",
    "# temp[0][0][\"url\"]"
   ]
  },
  {
   "cell_type": "code",
   "execution_count": null,
   "id": "eaf1834d-bcf8-4938-b543-002ae75fca3a",
   "metadata": {},
   "outputs": [],
   "source": [
    "# count = 1054\n",
    "# count//100"
   ]
  },
  {
   "cell_type": "code",
   "execution_count": null,
   "id": "35e8a444-8312-4898-92b6-f292b3df637b",
   "metadata": {},
   "outputs": [],
   "source": [
    "# for i in range(1,11+1):\n",
    "#     print(i)"
   ]
  },
  {
   "cell_type": "code",
   "execution_count": null,
   "id": "ab7f739f-fd10-402d-ab94-e359507c3d3f",
   "metadata": {},
   "outputs": [],
   "source": []
  },
  {
   "cell_type": "code",
   "execution_count": null,
   "id": "594c8352-3c8e-4c16-a0e0-579dd5e0cb0c",
   "metadata": {},
   "outputs": [],
   "source": []
  },
  {
   "cell_type": "code",
   "execution_count": null,
   "id": "2e1c318e-314f-4dcd-bd24-f79f45c23a33",
   "metadata": {},
   "outputs": [],
   "source": []
  }
 ],
 "metadata": {
  "kernelspec": {
   "display_name": "Python 3 (Spyder)",
   "language": "python3",
   "name": "python3"
  },
  "language_info": {
   "codemirror_mode": {
    "name": "ipython",
    "version": 3
   },
   "file_extension": ".py",
   "mimetype": "text/x-python",
   "name": "python",
   "nbconvert_exporter": "python",
   "pygments_lexer": "ipython3",
   "version": "3.11.7"
  }
 },
 "nbformat": 4,
 "nbformat_minor": 5
}
